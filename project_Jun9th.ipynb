{
 "cells": [
  {
   "cell_type": "markdown",
   "metadata": {},
   "source": [
    "# Final Group Project: Bike Sharing\n",
    "## GPIM 452: Big Data Analytics\n",
    "### Group 6: Lin Ou, Luna Zeng, Mingpu Xiao, Qinghui Zhnag\n",
    "---"
   ]
  },
  {
   "cell_type": "markdown",
   "metadata": {},
   "source": [
    "## Data Pre-processing"
   ]
  },
  {
   "cell_type": "code",
   "execution_count": 1,
   "metadata": {},
   "outputs": [],
   "source": [
    "import pandas as pd\n",
    "import numpy as np \n",
    "\n",
    "%matplotlib inline\n",
    "from matplotlib import pyplot as plt\n",
    "import seaborn as sns"
   ]
  },
  {
   "cell_type": "code",
   "execution_count": 2,
   "metadata": {},
   "outputs": [],
   "source": [
    "bike_data = pd.read_csv('./Bike_sharing.csv')"
   ]
  },
  {
   "cell_type": "code",
   "execution_count": 3,
   "metadata": {},
   "outputs": [
    {
     "data": {
      "text/plain": [
       "Index(['datetime', 'season', 'holiday', 'workingday', 'weather', 'temp',\n",
       "       'atemp', 'humidity', 'windspeed', 'casual', 'registered', 'count'],\n",
       "      dtype='object')"
      ]
     },
     "execution_count": 3,
     "metadata": {},
     "output_type": "execute_result"
    }
   ],
   "source": [
    "bike_data.columns"
   ]
  },
  {
   "cell_type": "code",
   "execution_count": 4,
   "metadata": {},
   "outputs": [
    {
     "data": {
      "text/html": [
       "<div>\n",
       "<style scoped>\n",
       "    .dataframe tbody tr th:only-of-type {\n",
       "        vertical-align: middle;\n",
       "    }\n",
       "\n",
       "    .dataframe tbody tr th {\n",
       "        vertical-align: top;\n",
       "    }\n",
       "\n",
       "    .dataframe thead th {\n",
       "        text-align: right;\n",
       "    }\n",
       "</style>\n",
       "<table border=\"1\" class=\"dataframe\">\n",
       "  <thead>\n",
       "    <tr style=\"text-align: right;\">\n",
       "      <th></th>\n",
       "      <th>datetime</th>\n",
       "      <th>season</th>\n",
       "      <th>holiday</th>\n",
       "      <th>workingday</th>\n",
       "      <th>weather</th>\n",
       "      <th>temp</th>\n",
       "      <th>atemp</th>\n",
       "      <th>humidity</th>\n",
       "      <th>windspeed</th>\n",
       "      <th>casual</th>\n",
       "      <th>registered</th>\n",
       "      <th>count</th>\n",
       "    </tr>\n",
       "  </thead>\n",
       "  <tbody>\n",
       "    <tr>\n",
       "      <th>0</th>\n",
       "      <td>1/1/2011 0:00</td>\n",
       "      <td>1</td>\n",
       "      <td>0</td>\n",
       "      <td>0</td>\n",
       "      <td>1</td>\n",
       "      <td>9.84</td>\n",
       "      <td>14.395</td>\n",
       "      <td>81</td>\n",
       "      <td>0.0</td>\n",
       "      <td>3</td>\n",
       "      <td>13</td>\n",
       "      <td>16</td>\n",
       "    </tr>\n",
       "    <tr>\n",
       "      <th>1</th>\n",
       "      <td>1/1/2011 1:00</td>\n",
       "      <td>1</td>\n",
       "      <td>0</td>\n",
       "      <td>0</td>\n",
       "      <td>1</td>\n",
       "      <td>9.02</td>\n",
       "      <td>13.635</td>\n",
       "      <td>80</td>\n",
       "      <td>0.0</td>\n",
       "      <td>8</td>\n",
       "      <td>32</td>\n",
       "      <td>40</td>\n",
       "    </tr>\n",
       "    <tr>\n",
       "      <th>2</th>\n",
       "      <td>1/1/2011 2:00</td>\n",
       "      <td>1</td>\n",
       "      <td>0</td>\n",
       "      <td>0</td>\n",
       "      <td>1</td>\n",
       "      <td>9.02</td>\n",
       "      <td>13.635</td>\n",
       "      <td>80</td>\n",
       "      <td>0.0</td>\n",
       "      <td>5</td>\n",
       "      <td>27</td>\n",
       "      <td>32</td>\n",
       "    </tr>\n",
       "    <tr>\n",
       "      <th>3</th>\n",
       "      <td>1/1/2011 3:00</td>\n",
       "      <td>1</td>\n",
       "      <td>0</td>\n",
       "      <td>0</td>\n",
       "      <td>1</td>\n",
       "      <td>9.84</td>\n",
       "      <td>14.395</td>\n",
       "      <td>75</td>\n",
       "      <td>0.0</td>\n",
       "      <td>3</td>\n",
       "      <td>10</td>\n",
       "      <td>13</td>\n",
       "    </tr>\n",
       "    <tr>\n",
       "      <th>4</th>\n",
       "      <td>1/1/2011 4:00</td>\n",
       "      <td>1</td>\n",
       "      <td>0</td>\n",
       "      <td>0</td>\n",
       "      <td>1</td>\n",
       "      <td>9.84</td>\n",
       "      <td>14.395</td>\n",
       "      <td>75</td>\n",
       "      <td>0.0</td>\n",
       "      <td>0</td>\n",
       "      <td>1</td>\n",
       "      <td>1</td>\n",
       "    </tr>\n",
       "  </tbody>\n",
       "</table>\n",
       "</div>"
      ],
      "text/plain": [
       "        datetime  season  holiday  workingday  weather  temp   atemp  \\\n",
       "0  1/1/2011 0:00       1        0           0        1  9.84  14.395   \n",
       "1  1/1/2011 1:00       1        0           0        1  9.02  13.635   \n",
       "2  1/1/2011 2:00       1        0           0        1  9.02  13.635   \n",
       "3  1/1/2011 3:00       1        0           0        1  9.84  14.395   \n",
       "4  1/1/2011 4:00       1        0           0        1  9.84  14.395   \n",
       "\n",
       "   humidity  windspeed  casual  registered  count  \n",
       "0        81        0.0       3          13     16  \n",
       "1        80        0.0       8          32     40  \n",
       "2        80        0.0       5          27     32  \n",
       "3        75        0.0       3          10     13  \n",
       "4        75        0.0       0           1      1  "
      ]
     },
     "execution_count": 4,
     "metadata": {},
     "output_type": "execute_result"
    }
   ],
   "source": [
    "bike_data.head()"
   ]
  },
  {
   "cell_type": "code",
   "execution_count": 5,
   "metadata": {},
   "outputs": [
    {
     "data": {
      "text/plain": [
       "datetime      0\n",
       "season        0\n",
       "holiday       0\n",
       "workingday    0\n",
       "weather       0\n",
       "temp          0\n",
       "atemp         0\n",
       "humidity      0\n",
       "windspeed     0\n",
       "casual        0\n",
       "registered    0\n",
       "count         0\n",
       "dtype: int64"
      ]
     },
     "execution_count": 5,
     "metadata": {},
     "output_type": "execute_result"
    }
   ],
   "source": [
    "bike_data.isna().sum()"
   ]
  },
  {
   "cell_type": "code",
   "execution_count": 6,
   "metadata": {},
   "outputs": [
    {
     "data": {
      "text/plain": [
       "10886"
      ]
     },
     "execution_count": 6,
     "metadata": {},
     "output_type": "execute_result"
    }
   ],
   "source": [
    "len(bike_data['datetime'].unique())"
   ]
  },
  {
   "cell_type": "code",
   "execution_count": 7,
   "metadata": {},
   "outputs": [
    {
     "data": {
      "text/plain": [
       "10886"
      ]
     },
     "execution_count": 7,
     "metadata": {},
     "output_type": "execute_result"
    }
   ],
   "source": [
    "len(bike_data)"
   ]
  },
  {
   "cell_type": "code",
   "execution_count": 8,
   "metadata": {},
   "outputs": [
    {
     "data": {
      "text/html": [
       "<div>\n",
       "<style scoped>\n",
       "    .dataframe tbody tr th:only-of-type {\n",
       "        vertical-align: middle;\n",
       "    }\n",
       "\n",
       "    .dataframe tbody tr th {\n",
       "        vertical-align: top;\n",
       "    }\n",
       "\n",
       "    .dataframe thead th {\n",
       "        text-align: right;\n",
       "    }\n",
       "</style>\n",
       "<table border=\"1\" class=\"dataframe\">\n",
       "  <thead>\n",
       "    <tr style=\"text-align: right;\">\n",
       "      <th></th>\n",
       "      <th>count</th>\n",
       "      <th>mean</th>\n",
       "      <th>std</th>\n",
       "      <th>min</th>\n",
       "      <th>25%</th>\n",
       "      <th>50%</th>\n",
       "      <th>75%</th>\n",
       "      <th>max</th>\n",
       "    </tr>\n",
       "  </thead>\n",
       "  <tbody>\n",
       "    <tr>\n",
       "      <th>season</th>\n",
       "      <td>10886.0</td>\n",
       "      <td>2.506614</td>\n",
       "      <td>1.116174</td>\n",
       "      <td>1.00</td>\n",
       "      <td>2.0000</td>\n",
       "      <td>3.000</td>\n",
       "      <td>4.0000</td>\n",
       "      <td>4.0000</td>\n",
       "    </tr>\n",
       "    <tr>\n",
       "      <th>holiday</th>\n",
       "      <td>10886.0</td>\n",
       "      <td>0.028569</td>\n",
       "      <td>0.166599</td>\n",
       "      <td>0.00</td>\n",
       "      <td>0.0000</td>\n",
       "      <td>0.000</td>\n",
       "      <td>0.0000</td>\n",
       "      <td>1.0000</td>\n",
       "    </tr>\n",
       "    <tr>\n",
       "      <th>workingday</th>\n",
       "      <td>10886.0</td>\n",
       "      <td>0.680875</td>\n",
       "      <td>0.466159</td>\n",
       "      <td>0.00</td>\n",
       "      <td>0.0000</td>\n",
       "      <td>1.000</td>\n",
       "      <td>1.0000</td>\n",
       "      <td>1.0000</td>\n",
       "    </tr>\n",
       "    <tr>\n",
       "      <th>weather</th>\n",
       "      <td>10886.0</td>\n",
       "      <td>1.418427</td>\n",
       "      <td>0.633839</td>\n",
       "      <td>1.00</td>\n",
       "      <td>1.0000</td>\n",
       "      <td>1.000</td>\n",
       "      <td>2.0000</td>\n",
       "      <td>4.0000</td>\n",
       "    </tr>\n",
       "    <tr>\n",
       "      <th>temp</th>\n",
       "      <td>10886.0</td>\n",
       "      <td>20.230860</td>\n",
       "      <td>7.791590</td>\n",
       "      <td>0.82</td>\n",
       "      <td>13.9400</td>\n",
       "      <td>20.500</td>\n",
       "      <td>26.2400</td>\n",
       "      <td>41.0000</td>\n",
       "    </tr>\n",
       "    <tr>\n",
       "      <th>atemp</th>\n",
       "      <td>10886.0</td>\n",
       "      <td>23.655084</td>\n",
       "      <td>8.474601</td>\n",
       "      <td>0.76</td>\n",
       "      <td>16.6650</td>\n",
       "      <td>24.240</td>\n",
       "      <td>31.0600</td>\n",
       "      <td>45.4550</td>\n",
       "    </tr>\n",
       "    <tr>\n",
       "      <th>humidity</th>\n",
       "      <td>10886.0</td>\n",
       "      <td>61.886460</td>\n",
       "      <td>19.245033</td>\n",
       "      <td>0.00</td>\n",
       "      <td>47.0000</td>\n",
       "      <td>62.000</td>\n",
       "      <td>77.0000</td>\n",
       "      <td>100.0000</td>\n",
       "    </tr>\n",
       "    <tr>\n",
       "      <th>windspeed</th>\n",
       "      <td>10886.0</td>\n",
       "      <td>12.799395</td>\n",
       "      <td>8.164537</td>\n",
       "      <td>0.00</td>\n",
       "      <td>7.0015</td>\n",
       "      <td>12.998</td>\n",
       "      <td>16.9979</td>\n",
       "      <td>56.9969</td>\n",
       "    </tr>\n",
       "    <tr>\n",
       "      <th>casual</th>\n",
       "      <td>10886.0</td>\n",
       "      <td>36.021955</td>\n",
       "      <td>49.960477</td>\n",
       "      <td>0.00</td>\n",
       "      <td>4.0000</td>\n",
       "      <td>17.000</td>\n",
       "      <td>49.0000</td>\n",
       "      <td>367.0000</td>\n",
       "    </tr>\n",
       "    <tr>\n",
       "      <th>registered</th>\n",
       "      <td>10886.0</td>\n",
       "      <td>155.552177</td>\n",
       "      <td>151.039033</td>\n",
       "      <td>0.00</td>\n",
       "      <td>36.0000</td>\n",
       "      <td>118.000</td>\n",
       "      <td>222.0000</td>\n",
       "      <td>886.0000</td>\n",
       "    </tr>\n",
       "    <tr>\n",
       "      <th>count</th>\n",
       "      <td>10886.0</td>\n",
       "      <td>191.574132</td>\n",
       "      <td>181.144454</td>\n",
       "      <td>1.00</td>\n",
       "      <td>42.0000</td>\n",
       "      <td>145.000</td>\n",
       "      <td>284.0000</td>\n",
       "      <td>977.0000</td>\n",
       "    </tr>\n",
       "  </tbody>\n",
       "</table>\n",
       "</div>"
      ],
      "text/plain": [
       "              count        mean         std   min      25%      50%       75%  \\\n",
       "season      10886.0    2.506614    1.116174  1.00   2.0000    3.000    4.0000   \n",
       "holiday     10886.0    0.028569    0.166599  0.00   0.0000    0.000    0.0000   \n",
       "workingday  10886.0    0.680875    0.466159  0.00   0.0000    1.000    1.0000   \n",
       "weather     10886.0    1.418427    0.633839  1.00   1.0000    1.000    2.0000   \n",
       "temp        10886.0   20.230860    7.791590  0.82  13.9400   20.500   26.2400   \n",
       "atemp       10886.0   23.655084    8.474601  0.76  16.6650   24.240   31.0600   \n",
       "humidity    10886.0   61.886460   19.245033  0.00  47.0000   62.000   77.0000   \n",
       "windspeed   10886.0   12.799395    8.164537  0.00   7.0015   12.998   16.9979   \n",
       "casual      10886.0   36.021955   49.960477  0.00   4.0000   17.000   49.0000   \n",
       "registered  10886.0  155.552177  151.039033  0.00  36.0000  118.000  222.0000   \n",
       "count       10886.0  191.574132  181.144454  1.00  42.0000  145.000  284.0000   \n",
       "\n",
       "                 max  \n",
       "season        4.0000  \n",
       "holiday       1.0000  \n",
       "workingday    1.0000  \n",
       "weather       4.0000  \n",
       "temp         41.0000  \n",
       "atemp        45.4550  \n",
       "humidity    100.0000  \n",
       "windspeed    56.9969  \n",
       "casual      367.0000  \n",
       "registered  886.0000  \n",
       "count       977.0000  "
      ]
     },
     "execution_count": 8,
     "metadata": {},
     "output_type": "execute_result"
    }
   ],
   "source": [
    "bike_data.describe().T"
   ]
  },
  {
   "cell_type": "markdown",
   "metadata": {},
   "source": [
    "----------"
   ]
  },
  {
   "cell_type": "markdown",
   "metadata": {},
   "source": [
    "## Data Exploration"
   ]
  },
  {
   "cell_type": "markdown",
   "metadata": {},
   "source": [
    "### Pie Chart of casual and registered users"
   ]
  },
  {
   "cell_type": "code",
   "execution_count": 9,
   "metadata": {},
   "outputs": [
    {
     "data": {
      "image/png": "[encoded data removed]",
      "text/plain": [
       "<Figure size 432x432 with 1 Axes>"
      ]
     },
     "metadata": {},
     "output_type": "display_data"
    }
   ],
   "source": [
    "total_casual = sum(bike_data['casual'])\n",
    "total_registered = sum(bike_data['registered'])\n",
    "\n",
    "labels = 'Registered Users','Non-registered Users', \n",
    "sizes = [total_registered,total_casual]\n",
    "explode = (0, 0.1)\n",
    "\n",
    "fig1, ax1 = plt.subplots(figsize=(6, 6))\n",
    "ax1.pie(sizes, labels=labels, shadow=True, explode=explode, startangle=90,autopct='%1.1f%%')\n",
    "ax1.axis('equal')\n",
    "plt.title('Proportion of Non-registered and Registered Users')\n",
    "plt.show()"
   ]
  },
  {
   "cell_type": "markdown",
   "metadata": {},
   "source": [
    "### Bar Plots and Box Plots for Categorical features"
   ]
  },
  {
   "cell_type": "markdown",
   "metadata": {},
   "source": [
    "#### By Season"
   ]
  },
  {
   "cell_type": "code",
   "execution_count": 10,
   "metadata": {},
   "outputs": [
    {
     "data": {
      "image/png": "[encoded data removed]",
      "text/plain": [
       "<Figure size 576x432 with 1 Axes>"
      ]
     },
     "metadata": {
      "needs_background": "light"
     },
     "output_type": "display_data"
    }
   ],
   "source": [
    "season_count = bike_data.filter(items=['season','count'])\n",
    "season_avg_count = season_count.groupby(['season']).mean()\n",
    "season_avg_count\n",
    "\n",
    "x_data=['Spring','Summer','Fall','Winter']\n",
    "y_data=[116,215,234,198]\n",
    "\n",
    "plt.figure(figsize=(8, 6))\n",
    "plt.bar(x=x_data,height=y_data)\n",
    "plt.title(\"Average Number of Rentals by Season\")\n",
    "plt.xlabel(\"Season\")\n",
    "plt.ylabel(\"Average Number of Rentals\")\n",
    "plt.show()"
   ]
  },
  {
   "cell_type": "code",
   "execution_count": 11,
   "metadata": {},
   "outputs": [
    {
     "data": {
      "image/png": "[encoded data removed]",
      "text/plain": [
       "<Figure size 576x432 with 1 Axes>"
      ]
     },
     "metadata": {
      "needs_background": "light"
     },
     "output_type": "display_data"
    }
   ],
   "source": [
    "plt.figure(figsize=(8,6))\n",
    "sns.boxplot(x='season', y='count', data=bike_data)\n",
    "plt.title('Number of Rentals by Season')\n",
    "plt.xticks([0, 1, 2, 3], ['Spring', 'Summer', 'Fall', 'Winter'])\n",
    "plt.xlabel(\"Season\")\n",
    "plt.ylabel(\"Number of Rentals\")\n",
    "plt.show()"
   ]
  },
  {
   "cell_type": "markdown",
   "metadata": {},
   "source": [
    "#### By Hour"
   ]
  },
  {
   "cell_type": "code",
   "execution_count": 12,
   "metadata": {},
   "outputs": [
    {
     "data": {
      "image/png": "[encoded data removed]",
      "text/plain": [
       "<Figure size 720x432 with 1 Axes>"
      ]
     },
     "metadata": {
      "needs_background": "light"
     },
     "output_type": "display_data"
    }
   ],
   "source": [
    "bike_data['hour'] = bike_data['datetime'].str[-5:-3]\n",
    "\n",
    "plt.figure(figsize=(10,6))\n",
    "sns.boxplot(x='hour', y='count', data=bike_data)\n",
    "plt.title('Number of Rentals by Hour')\n",
    "plt.xlabel(\"Hour\")\n",
    "plt.ylabel(\"Number of Rentals\")\n",
    "plt.show()"
   ]
  },
  {
   "cell_type": "code",
   "execution_count": 13,
   "metadata": {},
   "outputs": [],
   "source": [
    "bike_data = bike_data.drop('hour',axis=1)"
   ]
  },
  {
   "cell_type": "markdown",
   "metadata": {},
   "source": [
    "#### By Weather"
   ]
  },
  {
   "cell_type": "code",
   "execution_count": 14,
   "metadata": {},
   "outputs": [
    {
     "data": {
      "image/png": "[encoded data removed]",
      "text/plain": [
       "<Figure size 576x432 with 1 Axes>"
      ]
     },
     "metadata": {
      "needs_background": "light"
     },
     "output_type": "display_data"
    }
   ],
   "source": [
    "weather_count = bike_data.filter(items=['weather','count'])\n",
    "weather_avg_count = weather_count.groupby(['weather']).mean()\n",
    "weather_avg_count\n",
    "\n",
    "x_data=['Clear','Mist','Light Rain/Snow','Heavy Rain/Snow']\n",
    "y_data=[205.23,178.95,118.84,164]\n",
    "\n",
    "plt.figure(figsize=(8, 6))\n",
    "plt.bar(x=x_data,height=y_data)\n",
    "plt.title(\"Average Number of Rentals by Weather\")\n",
    "plt.xlabel(\"Weather\")\n",
    "plt.ylabel(\"Average Number of Rentals\")\n",
    "plt.show()"
   ]
  },
  {
   "cell_type": "code",
   "execution_count": 15,
   "metadata": {},
   "outputs": [
    {
     "data": {
      "image/png": "[encoded data removed]",
      "text/plain": [
       "<Figure size 576x432 with 1 Axes>"
      ]
     },
     "metadata": {
      "needs_background": "light"
     },
     "output_type": "display_data"
    }
   ],
   "source": [
    "plt.figure(figsize=(8,6))\n",
    "sns.boxplot(x='weather', y='count', data=bike_data)\n",
    "plt.title('Number of Rentals by Weather')\n",
    "plt.xlabel(\"Weahter\")\n",
    "plt.xticks([0, 1, 2, 3], ['1: Clear', '2: Mist', '3: Light Rain/Snow', '4: Heavy Rain/Snow'])\n",
    "plt.ylabel(\"Number of Rentals\")\n",
    "plt.show()"
   ]
  },
  {
   "cell_type": "markdown",
   "metadata": {},
   "source": [
    "-----------"
   ]
  },
  {
   "cell_type": "markdown",
   "metadata": {},
   "source": [
    "## Data Preparation"
   ]
  },
  {
   "cell_type": "markdown",
   "metadata": {},
   "source": [
    "## Transforming `season` into dummies"
   ]
  },
  {
   "cell_type": "code",
   "execution_count": 16,
   "metadata": {},
   "outputs": [
    {
     "data": {
      "text/plain": [
       "array([1, 2, 3, 4])"
      ]
     },
     "execution_count": 16,
     "metadata": {},
     "output_type": "execute_result"
    }
   ],
   "source": [
    "bike_data['season'].unique()"
   ]
  },
  {
   "cell_type": "code",
   "execution_count": 17,
   "metadata": {},
   "outputs": [],
   "source": [
    "bike_data['season_str'] = bike_data['season'].apply(str)"
   ]
  },
  {
   "cell_type": "code",
   "execution_count": 18,
   "metadata": {},
   "outputs": [],
   "source": [
    "season_col = ['season', 'season_str']\n",
    "dummy_season = pd.get_dummies(bike_data['season_str'], drop_first=True) \n",
    "bike_data = bike_data.drop(season_col, axis = 1)\n",
    "bike_data = bike_data.join(dummy_season)"
   ]
  },
  {
   "cell_type": "code",
   "execution_count": 19,
   "metadata": {},
   "outputs": [
    {
     "data": {
      "text/html": [
       "<div>\n",
       "<style scoped>\n",
       "    .dataframe tbody tr th:only-of-type {\n",
       "        vertical-align: middle;\n",
       "    }\n",
       "\n",
       "    .dataframe tbody tr th {\n",
       "        vertical-align: top;\n",
       "    }\n",
       "\n",
       "    .dataframe thead th {\n",
       "        text-align: right;\n",
       "    }\n",
       "</style>\n",
       "<table border=\"1\" class=\"dataframe\">\n",
       "  <thead>\n",
       "    <tr style=\"text-align: right;\">\n",
       "      <th></th>\n",
       "      <th>datetime</th>\n",
       "      <th>holiday</th>\n",
       "      <th>workingday</th>\n",
       "      <th>weather</th>\n",
       "      <th>temp</th>\n",
       "      <th>atemp</th>\n",
       "      <th>humidity</th>\n",
       "      <th>windspeed</th>\n",
       "      <th>casual</th>\n",
       "      <th>registered</th>\n",
       "      <th>count</th>\n",
       "      <th>summer</th>\n",
       "      <th>fall</th>\n",
       "      <th>winter</th>\n",
       "    </tr>\n",
       "  </thead>\n",
       "  <tbody>\n",
       "    <tr>\n",
       "      <th>0</th>\n",
       "      <td>1/1/2011 0:00</td>\n",
       "      <td>0</td>\n",
       "      <td>0</td>\n",
       "      <td>1</td>\n",
       "      <td>9.84</td>\n",
       "      <td>14.395</td>\n",
       "      <td>81</td>\n",
       "      <td>0.0</td>\n",
       "      <td>3</td>\n",
       "      <td>13</td>\n",
       "      <td>16</td>\n",
       "      <td>0</td>\n",
       "      <td>0</td>\n",
       "      <td>0</td>\n",
       "    </tr>\n",
       "    <tr>\n",
       "      <th>1</th>\n",
       "      <td>1/1/2011 1:00</td>\n",
       "      <td>0</td>\n",
       "      <td>0</td>\n",
       "      <td>1</td>\n",
       "      <td>9.02</td>\n",
       "      <td>13.635</td>\n",
       "      <td>80</td>\n",
       "      <td>0.0</td>\n",
       "      <td>8</td>\n",
       "      <td>32</td>\n",
       "      <td>40</td>\n",
       "      <td>0</td>\n",
       "      <td>0</td>\n",
       "      <td>0</td>\n",
       "    </tr>\n",
       "    <tr>\n",
       "      <th>2</th>\n",
       "      <td>1/1/2011 2:00</td>\n",
       "      <td>0</td>\n",
       "      <td>0</td>\n",
       "      <td>1</td>\n",
       "      <td>9.02</td>\n",
       "      <td>13.635</td>\n",
       "      <td>80</td>\n",
       "      <td>0.0</td>\n",
       "      <td>5</td>\n",
       "      <td>27</td>\n",
       "      <td>32</td>\n",
       "      <td>0</td>\n",
       "      <td>0</td>\n",
       "      <td>0</td>\n",
       "    </tr>\n",
       "    <tr>\n",
       "      <th>3</th>\n",
       "      <td>1/1/2011 3:00</td>\n",
       "      <td>0</td>\n",
       "      <td>0</td>\n",
       "      <td>1</td>\n",
       "      <td>9.84</td>\n",
       "      <td>14.395</td>\n",
       "      <td>75</td>\n",
       "      <td>0.0</td>\n",
       "      <td>3</td>\n",
       "      <td>10</td>\n",
       "      <td>13</td>\n",
       "      <td>0</td>\n",
       "      <td>0</td>\n",
       "      <td>0</td>\n",
       "    </tr>\n",
       "    <tr>\n",
       "      <th>4</th>\n",
       "      <td>1/1/2011 4:00</td>\n",
       "      <td>0</td>\n",
       "      <td>0</td>\n",
       "      <td>1</td>\n",
       "      <td>9.84</td>\n",
       "      <td>14.395</td>\n",
       "      <td>75</td>\n",
       "      <td>0.0</td>\n",
       "      <td>0</td>\n",
       "      <td>1</td>\n",
       "      <td>1</td>\n",
       "      <td>0</td>\n",
       "      <td>0</td>\n",
       "      <td>0</td>\n",
       "    </tr>\n",
       "  </tbody>\n",
       "</table>\n",
       "</div>"
      ],
      "text/plain": [
       "        datetime  holiday  workingday  weather  temp   atemp  humidity  \\\n",
       "0  1/1/2011 0:00        0           0        1  9.84  14.395        81   \n",
       "1  1/1/2011 1:00        0           0        1  9.02  13.635        80   \n",
       "2  1/1/2011 2:00        0           0        1  9.02  13.635        80   \n",
       "3  1/1/2011 3:00        0           0        1  9.84  14.395        75   \n",
       "4  1/1/2011 4:00        0           0        1  9.84  14.395        75   \n",
       "\n",
       "   windspeed  casual  registered  count  summer  fall  winter  \n",
       "0        0.0       3          13     16       0     0       0  \n",
       "1        0.0       8          32     40       0     0       0  \n",
       "2        0.0       5          27     32       0     0       0  \n",
       "3        0.0       3          10     13       0     0       0  \n",
       "4        0.0       0           1      1       0     0       0  "
      ]
     },
     "execution_count": 19,
     "metadata": {},
     "output_type": "execute_result"
    }
   ],
   "source": [
    "bike_data.rename(columns={bike_data.columns[-3]:'summer', \n",
    "                          bike_data.columns[-2]:'fall', \n",
    "                          bike_data.columns[-1]:'winter'}, inplace=True)\n",
    "bike_data.head()"
   ]
  },
  {
   "cell_type": "markdown",
   "metadata": {},
   "source": [
    "## Transforming `weather` into dummies "
   ]
  },
  {
   "cell_type": "code",
   "execution_count": 20,
   "metadata": {},
   "outputs": [
    {
     "data": {
      "text/plain": [
       "array([1, 2, 3, 4])"
      ]
     },
     "execution_count": 20,
     "metadata": {},
     "output_type": "execute_result"
    }
   ],
   "source": [
    "bike_data['weather'].unique()"
   ]
  },
  {
   "cell_type": "code",
   "execution_count": 21,
   "metadata": {},
   "outputs": [
    {
     "data": {
      "text/html": [
       "<div>\n",
       "<style scoped>\n",
       "    .dataframe tbody tr th:only-of-type {\n",
       "        vertical-align: middle;\n",
       "    }\n",
       "\n",
       "    .dataframe tbody tr th {\n",
       "        vertical-align: top;\n",
       "    }\n",
       "\n",
       "    .dataframe thead th {\n",
       "        text-align: right;\n",
       "    }\n",
       "</style>\n",
       "<table border=\"1\" class=\"dataframe\">\n",
       "  <thead>\n",
       "    <tr style=\"text-align: right;\">\n",
       "      <th></th>\n",
       "      <th>datetime</th>\n",
       "      <th>holiday</th>\n",
       "      <th>workingday</th>\n",
       "      <th>temp</th>\n",
       "      <th>atemp</th>\n",
       "      <th>humidity</th>\n",
       "      <th>windspeed</th>\n",
       "      <th>casual</th>\n",
       "      <th>registered</th>\n",
       "      <th>count</th>\n",
       "      <th>summer</th>\n",
       "      <th>fall</th>\n",
       "      <th>winter</th>\n",
       "      <th>weather_2</th>\n",
       "      <th>weather_3</th>\n",
       "      <th>weather_4</th>\n",
       "    </tr>\n",
       "  </thead>\n",
       "  <tbody>\n",
       "    <tr>\n",
       "      <th>0</th>\n",
       "      <td>1/1/2011 0:00</td>\n",
       "      <td>0</td>\n",
       "      <td>0</td>\n",
       "      <td>9.84</td>\n",
       "      <td>14.395</td>\n",
       "      <td>81</td>\n",
       "      <td>0.0</td>\n",
       "      <td>3</td>\n",
       "      <td>13</td>\n",
       "      <td>16</td>\n",
       "      <td>0</td>\n",
       "      <td>0</td>\n",
       "      <td>0</td>\n",
       "      <td>0</td>\n",
       "      <td>0</td>\n",
       "      <td>0</td>\n",
       "    </tr>\n",
       "    <tr>\n",
       "      <th>1</th>\n",
       "      <td>1/1/2011 1:00</td>\n",
       "      <td>0</td>\n",
       "      <td>0</td>\n",
       "      <td>9.02</td>\n",
       "      <td>13.635</td>\n",
       "      <td>80</td>\n",
       "      <td>0.0</td>\n",
       "      <td>8</td>\n",
       "      <td>32</td>\n",
       "      <td>40</td>\n",
       "      <td>0</td>\n",
       "      <td>0</td>\n",
       "      <td>0</td>\n",
       "      <td>0</td>\n",
       "      <td>0</td>\n",
       "      <td>0</td>\n",
       "    </tr>\n",
       "    <tr>\n",
       "      <th>2</th>\n",
       "      <td>1/1/2011 2:00</td>\n",
       "      <td>0</td>\n",
       "      <td>0</td>\n",
       "      <td>9.02</td>\n",
       "      <td>13.635</td>\n",
       "      <td>80</td>\n",
       "      <td>0.0</td>\n",
       "      <td>5</td>\n",
       "      <td>27</td>\n",
       "      <td>32</td>\n",
       "      <td>0</td>\n",
       "      <td>0</td>\n",
       "      <td>0</td>\n",
       "      <td>0</td>\n",
       "      <td>0</td>\n",
       "      <td>0</td>\n",
       "    </tr>\n",
       "    <tr>\n",
       "      <th>3</th>\n",
       "      <td>1/1/2011 3:00</td>\n",
       "      <td>0</td>\n",
       "      <td>0</td>\n",
       "      <td>9.84</td>\n",
       "      <td>14.395</td>\n",
       "      <td>75</td>\n",
       "      <td>0.0</td>\n",
       "      <td>3</td>\n",
       "      <td>10</td>\n",
       "      <td>13</td>\n",
       "      <td>0</td>\n",
       "      <td>0</td>\n",
       "      <td>0</td>\n",
       "      <td>0</td>\n",
       "      <td>0</td>\n",
       "      <td>0</td>\n",
       "    </tr>\n",
       "    <tr>\n",
       "      <th>4</th>\n",
       "      <td>1/1/2011 4:00</td>\n",
       "      <td>0</td>\n",
       "      <td>0</td>\n",
       "      <td>9.84</td>\n",
       "      <td>14.395</td>\n",
       "      <td>75</td>\n",
       "      <td>0.0</td>\n",
       "      <td>0</td>\n",
       "      <td>1</td>\n",
       "      <td>1</td>\n",
       "      <td>0</td>\n",
       "      <td>0</td>\n",
       "      <td>0</td>\n",
       "      <td>0</td>\n",
       "      <td>0</td>\n",
       "      <td>0</td>\n",
       "    </tr>\n",
       "  </tbody>\n",
       "</table>\n",
       "</div>"
      ],
      "text/plain": [
       "        datetime  holiday  workingday  temp   atemp  humidity  windspeed  \\\n",
       "0  1/1/2011 0:00        0           0  9.84  14.395        81        0.0   \n",
       "1  1/1/2011 1:00        0           0  9.02  13.635        80        0.0   \n",
       "2  1/1/2011 2:00        0           0  9.02  13.635        80        0.0   \n",
       "3  1/1/2011 3:00        0           0  9.84  14.395        75        0.0   \n",
       "4  1/1/2011 4:00        0           0  9.84  14.395        75        0.0   \n",
       "\n",
       "   casual  registered  count  summer  fall  winter  weather_2  weather_3  \\\n",
       "0       3          13     16       0     0       0          0          0   \n",
       "1       8          32     40       0     0       0          0          0   \n",
       "2       5          27     32       0     0       0          0          0   \n",
       "3       3          10     13       0     0       0          0          0   \n",
       "4       0           1      1       0     0       0          0          0   \n",
       "\n",
       "   weather_4  \n",
       "0          0  \n",
       "1          0  \n",
       "2          0  \n",
       "3          0  \n",
       "4          0  "
      ]
     },
     "execution_count": 21,
     "metadata": {},
     "output_type": "execute_result"
    }
   ],
   "source": [
    "bike_data['weather_str'] = bike_data['weather'].apply(str)\n",
    "weather_col = ['weather', 'weather_str']\n",
    "\n",
    "dummy_weather = pd.get_dummies(bike_data['weather_str'], drop_first=True) \n",
    "bike_data = bike_data.drop(weather_col, axis = 1)\n",
    "bike_data = bike_data.join(dummy_weather)\n",
    "\n",
    "bike_data.rename(columns={bike_data.columns[-3]:'weather_2', \n",
    "                          bike_data.columns[-2]:'weather_3', \n",
    "                          bike_data.columns[-1]:'weather_4'}, inplace=True)\n",
    "# weather, 1 = best, 4 = worst\n",
    "bike_data.head()"
   ]
  },
  {
   "cell_type": "code",
   "execution_count": 22,
   "metadata": {},
   "outputs": [
    {
     "data": {
      "text/plain": [
       "Index(['datetime', 'holiday', 'workingday', 'temp', 'atemp', 'humidity',\n",
       "       'windspeed', 'casual', 'registered', 'count', 'summer', 'fall',\n",
       "       'winter', 'weather_2', 'weather_3', 'weather_4'],\n",
       "      dtype='object')"
      ]
     },
     "execution_count": 22,
     "metadata": {},
     "output_type": "execute_result"
    }
   ],
   "source": [
    "bike_data.columns"
   ]
  },
  {
   "cell_type": "code",
   "execution_count": 23,
   "metadata": {},
   "outputs": [
    {
     "name": "stdout",
     "output_type": "stream",
     "text": [
      "<class 'pandas.core.frame.DataFrame'>\n",
      "RangeIndex: 10886 entries, 0 to 10885\n",
      "Data columns (total 16 columns):\n",
      " #   Column      Non-Null Count  Dtype  \n",
      "---  ------      --------------  -----  \n",
      " 0   datetime    10886 non-null  object \n",
      " 1   holiday     10886 non-null  int64  \n",
      " 2   workingday  10886 non-null  int64  \n",
      " 3   temp        10886 non-null  float64\n",
      " 4   atemp       10886 non-null  float64\n",
      " 5   humidity    10886 non-null  int64  \n",
      " 6   windspeed   10886 non-null  float64\n",
      " 7   casual      10886 non-null  int64  \n",
      " 8   registered  10886 non-null  int64  \n",
      " 9   count       10886 non-null  int64  \n",
      " 10  summer      10886 non-null  uint8  \n",
      " 11  fall        10886 non-null  uint8  \n",
      " 12  winter      10886 non-null  uint8  \n",
      " 13  weather_2   10886 non-null  uint8  \n",
      " 14  weather_3   10886 non-null  uint8  \n",
      " 15  weather_4   10886 non-null  uint8  \n",
      "dtypes: float64(3), int64(6), object(1), uint8(6)\n",
      "memory usage: 914.4+ KB\n"
     ]
    }
   ],
   "source": [
    "bike_data.info()"
   ]
  },
  {
   "cell_type": "markdown",
   "metadata": {},
   "source": [
    "## Get Dummies for day-hours"
   ]
  },
  {
   "cell_type": "code",
   "execution_count": 24,
   "metadata": {},
   "outputs": [
    {
     "data": {
      "text/plain": [
       "array([' 0', ' 1', ' 2', ' 3', ' 4', ' 5', ' 6', ' 7', ' 8', ' 9', '10',\n",
       "       '11', '12', '13', '14', '15', '16', '17', '18', '19', '20', '21',\n",
       "       '22', '23'], dtype=object)"
      ]
     },
     "execution_count": 24,
     "metadata": {},
     "output_type": "execute_result"
    }
   ],
   "source": [
    "bike_data['hour'] = bike_data['datetime'].str[-5:-3]\n",
    "bike_data['hour'].unique()"
   ]
  },
  {
   "cell_type": "code",
   "execution_count": 25,
   "metadata": {},
   "outputs": [
    {
     "data": {
      "text/html": [
       "<div>\n",
       "<style scoped>\n",
       "    .dataframe tbody tr th:only-of-type {\n",
       "        vertical-align: middle;\n",
       "    }\n",
       "\n",
       "    .dataframe tbody tr th {\n",
       "        vertical-align: top;\n",
       "    }\n",
       "\n",
       "    .dataframe thead th {\n",
       "        text-align: right;\n",
       "    }\n",
       "</style>\n",
       "<table border=\"1\" class=\"dataframe\">\n",
       "  <thead>\n",
       "    <tr style=\"text-align: right;\">\n",
       "      <th></th>\n",
       "      <th>holiday</th>\n",
       "      <th>workingday</th>\n",
       "      <th>temp</th>\n",
       "      <th>atemp</th>\n",
       "      <th>humidity</th>\n",
       "      <th>windspeed</th>\n",
       "      <th>casual</th>\n",
       "      <th>registered</th>\n",
       "      <th>count</th>\n",
       "      <th>summer</th>\n",
       "      <th>fall</th>\n",
       "      <th>winter</th>\n",
       "      <th>weather_2</th>\n",
       "      <th>weather_3</th>\n",
       "      <th>weather_4</th>\n",
       "      <th>1</th>\n",
       "      <th>2</th>\n",
       "      <th>3</th>\n",
       "    </tr>\n",
       "  </thead>\n",
       "  <tbody>\n",
       "    <tr>\n",
       "      <th>0</th>\n",
       "      <td>0</td>\n",
       "      <td>0</td>\n",
       "      <td>9.84</td>\n",
       "      <td>14.395</td>\n",
       "      <td>81</td>\n",
       "      <td>0.0</td>\n",
       "      <td>3</td>\n",
       "      <td>13</td>\n",
       "      <td>16</td>\n",
       "      <td>0</td>\n",
       "      <td>0</td>\n",
       "      <td>0</td>\n",
       "      <td>0</td>\n",
       "      <td>0</td>\n",
       "      <td>0</td>\n",
       "      <td>0</td>\n",
       "      <td>0</td>\n",
       "      <td>0</td>\n",
       "    </tr>\n",
       "    <tr>\n",
       "      <th>1</th>\n",
       "      <td>0</td>\n",
       "      <td>0</td>\n",
       "      <td>9.02</td>\n",
       "      <td>13.635</td>\n",
       "      <td>80</td>\n",
       "      <td>0.0</td>\n",
       "      <td>8</td>\n",
       "      <td>32</td>\n",
       "      <td>40</td>\n",
       "      <td>0</td>\n",
       "      <td>0</td>\n",
       "      <td>0</td>\n",
       "      <td>0</td>\n",
       "      <td>0</td>\n",
       "      <td>0</td>\n",
       "      <td>0</td>\n",
       "      <td>0</td>\n",
       "      <td>0</td>\n",
       "    </tr>\n",
       "    <tr>\n",
       "      <th>2</th>\n",
       "      <td>0</td>\n",
       "      <td>0</td>\n",
       "      <td>9.02</td>\n",
       "      <td>13.635</td>\n",
       "      <td>80</td>\n",
       "      <td>0.0</td>\n",
       "      <td>5</td>\n",
       "      <td>27</td>\n",
       "      <td>32</td>\n",
       "      <td>0</td>\n",
       "      <td>0</td>\n",
       "      <td>0</td>\n",
       "      <td>0</td>\n",
       "      <td>0</td>\n",
       "      <td>0</td>\n",
       "      <td>0</td>\n",
       "      <td>0</td>\n",
       "      <td>0</td>\n",
       "    </tr>\n",
       "    <tr>\n",
       "      <th>3</th>\n",
       "      <td>0</td>\n",
       "      <td>0</td>\n",
       "      <td>9.84</td>\n",
       "      <td>14.395</td>\n",
       "      <td>75</td>\n",
       "      <td>0.0</td>\n",
       "      <td>3</td>\n",
       "      <td>10</td>\n",
       "      <td>13</td>\n",
       "      <td>0</td>\n",
       "      <td>0</td>\n",
       "      <td>0</td>\n",
       "      <td>0</td>\n",
       "      <td>0</td>\n",
       "      <td>0</td>\n",
       "      <td>0</td>\n",
       "      <td>0</td>\n",
       "      <td>0</td>\n",
       "    </tr>\n",
       "    <tr>\n",
       "      <th>4</th>\n",
       "      <td>0</td>\n",
       "      <td>0</td>\n",
       "      <td>9.84</td>\n",
       "      <td>14.395</td>\n",
       "      <td>75</td>\n",
       "      <td>0.0</td>\n",
       "      <td>0</td>\n",
       "      <td>1</td>\n",
       "      <td>1</td>\n",
       "      <td>0</td>\n",
       "      <td>0</td>\n",
       "      <td>0</td>\n",
       "      <td>0</td>\n",
       "      <td>0</td>\n",
       "      <td>0</td>\n",
       "      <td>0</td>\n",
       "      <td>0</td>\n",
       "      <td>0</td>\n",
       "    </tr>\n",
       "  </tbody>\n",
       "</table>\n",
       "</div>"
      ],
      "text/plain": [
       "   holiday  workingday  temp   atemp  humidity  windspeed  casual  registered  \\\n",
       "0        0           0  9.84  14.395        81        0.0       3          13   \n",
       "1        0           0  9.02  13.635        80        0.0       8          32   \n",
       "2        0           0  9.02  13.635        80        0.0       5          27   \n",
       "3        0           0  9.84  14.395        75        0.0       3          10   \n",
       "4        0           0  9.84  14.395        75        0.0       0           1   \n",
       "\n",
       "   count  summer  fall  winter  weather_2  weather_3  weather_4  1  2  3  \n",
       "0     16       0     0       0          0          0          0  0  0  0  \n",
       "1     40       0     0       0          0          0          0  0  0  0  \n",
       "2     32       0     0       0          0          0          0  0  0  0  \n",
       "3     13       0     0       0          0          0          0  0  0  0  \n",
       "4      1       0     0       0          0          0          0  0  0  0  "
      ]
     },
     "execution_count": 25,
     "metadata": {},
     "output_type": "execute_result"
    }
   ],
   "source": [
    "bike_data['daytime'] = bike_data['hour']\n",
    "daytime = ['daytime', 'hour', 'datetime']\n",
    "\n",
    "bike_data['daytime'].replace([' 0',' 1',' 2',' 3',' 4',' 5'],'0', inplace=True)\n",
    "bike_data['daytime'].replace([' 6',' 7',' 8',' 9','10','11'],'1', inplace=True)\n",
    "bike_data['daytime'].replace(['12','13','14','15','16','17'],'2', inplace=True)\n",
    "bike_data['daytime'].replace(['18','19','20','21','22','23'],'3', inplace=True)\n",
    "\n",
    "dummy_daytime = pd.get_dummies(bike_data['daytime'], drop_first=True) \n",
    "bike_data = bike_data.drop(daytime, axis = 1)\n",
    "bike_data = bike_data.join(dummy_daytime)\n",
    "\n",
    "bike_data.head()"
   ]
  },
  {
   "cell_type": "code",
   "execution_count": 26,
   "metadata": {},
   "outputs": [
    {
     "data": {
      "text/html": [
       "<div>\n",
       "<style scoped>\n",
       "    .dataframe tbody tr th:only-of-type {\n",
       "        vertical-align: middle;\n",
       "    }\n",
       "\n",
       "    .dataframe tbody tr th {\n",
       "        vertical-align: top;\n",
       "    }\n",
       "\n",
       "    .dataframe thead th {\n",
       "        text-align: right;\n",
       "    }\n",
       "</style>\n",
       "<table border=\"1\" class=\"dataframe\">\n",
       "  <thead>\n",
       "    <tr style=\"text-align: right;\">\n",
       "      <th></th>\n",
       "      <th>holiday</th>\n",
       "      <th>workingday</th>\n",
       "      <th>temp</th>\n",
       "      <th>atemp</th>\n",
       "      <th>humidity</th>\n",
       "      <th>windspeed</th>\n",
       "      <th>casual</th>\n",
       "      <th>registered</th>\n",
       "      <th>count</th>\n",
       "      <th>summer</th>\n",
       "      <th>fall</th>\n",
       "      <th>winter</th>\n",
       "      <th>weather_2</th>\n",
       "      <th>weather_3</th>\n",
       "      <th>weather_4</th>\n",
       "      <th>morning</th>\n",
       "      <th>afternoon</th>\n",
       "      <th>evening</th>\n",
       "    </tr>\n",
       "  </thead>\n",
       "  <tbody>\n",
       "    <tr>\n",
       "      <th>0</th>\n",
       "      <td>0</td>\n",
       "      <td>0</td>\n",
       "      <td>9.84</td>\n",
       "      <td>14.395</td>\n",
       "      <td>81</td>\n",
       "      <td>0.0</td>\n",
       "      <td>3</td>\n",
       "      <td>13</td>\n",
       "      <td>16</td>\n",
       "      <td>0</td>\n",
       "      <td>0</td>\n",
       "      <td>0</td>\n",
       "      <td>0</td>\n",
       "      <td>0</td>\n",
       "      <td>0</td>\n",
       "      <td>0</td>\n",
       "      <td>0</td>\n",
       "      <td>0</td>\n",
       "    </tr>\n",
       "    <tr>\n",
       "      <th>1</th>\n",
       "      <td>0</td>\n",
       "      <td>0</td>\n",
       "      <td>9.02</td>\n",
       "      <td>13.635</td>\n",
       "      <td>80</td>\n",
       "      <td>0.0</td>\n",
       "      <td>8</td>\n",
       "      <td>32</td>\n",
       "      <td>40</td>\n",
       "      <td>0</td>\n",
       "      <td>0</td>\n",
       "      <td>0</td>\n",
       "      <td>0</td>\n",
       "      <td>0</td>\n",
       "      <td>0</td>\n",
       "      <td>0</td>\n",
       "      <td>0</td>\n",
       "      <td>0</td>\n",
       "    </tr>\n",
       "    <tr>\n",
       "      <th>2</th>\n",
       "      <td>0</td>\n",
       "      <td>0</td>\n",
       "      <td>9.02</td>\n",
       "      <td>13.635</td>\n",
       "      <td>80</td>\n",
       "      <td>0.0</td>\n",
       "      <td>5</td>\n",
       "      <td>27</td>\n",
       "      <td>32</td>\n",
       "      <td>0</td>\n",
       "      <td>0</td>\n",
       "      <td>0</td>\n",
       "      <td>0</td>\n",
       "      <td>0</td>\n",
       "      <td>0</td>\n",
       "      <td>0</td>\n",
       "      <td>0</td>\n",
       "      <td>0</td>\n",
       "    </tr>\n",
       "    <tr>\n",
       "      <th>3</th>\n",
       "      <td>0</td>\n",
       "      <td>0</td>\n",
       "      <td>9.84</td>\n",
       "      <td>14.395</td>\n",
       "      <td>75</td>\n",
       "      <td>0.0</td>\n",
       "      <td>3</td>\n",
       "      <td>10</td>\n",
       "      <td>13</td>\n",
       "      <td>0</td>\n",
       "      <td>0</td>\n",
       "      <td>0</td>\n",
       "      <td>0</td>\n",
       "      <td>0</td>\n",
       "      <td>0</td>\n",
       "      <td>0</td>\n",
       "      <td>0</td>\n",
       "      <td>0</td>\n",
       "    </tr>\n",
       "    <tr>\n",
       "      <th>4</th>\n",
       "      <td>0</td>\n",
       "      <td>0</td>\n",
       "      <td>9.84</td>\n",
       "      <td>14.395</td>\n",
       "      <td>75</td>\n",
       "      <td>0.0</td>\n",
       "      <td>0</td>\n",
       "      <td>1</td>\n",
       "      <td>1</td>\n",
       "      <td>0</td>\n",
       "      <td>0</td>\n",
       "      <td>0</td>\n",
       "      <td>0</td>\n",
       "      <td>0</td>\n",
       "      <td>0</td>\n",
       "      <td>0</td>\n",
       "      <td>0</td>\n",
       "      <td>0</td>\n",
       "    </tr>\n",
       "  </tbody>\n",
       "</table>\n",
       "</div>"
      ],
      "text/plain": [
       "   holiday  workingday  temp   atemp  humidity  windspeed  casual  registered  \\\n",
       "0        0           0  9.84  14.395        81        0.0       3          13   \n",
       "1        0           0  9.02  13.635        80        0.0       8          32   \n",
       "2        0           0  9.02  13.635        80        0.0       5          27   \n",
       "3        0           0  9.84  14.395        75        0.0       3          10   \n",
       "4        0           0  9.84  14.395        75        0.0       0           1   \n",
       "\n",
       "   count  summer  fall  winter  weather_2  weather_3  weather_4  morning  \\\n",
       "0     16       0     0       0          0          0          0        0   \n",
       "1     40       0     0       0          0          0          0        0   \n",
       "2     32       0     0       0          0          0          0        0   \n",
       "3     13       0     0       0          0          0          0        0   \n",
       "4      1       0     0       0          0          0          0        0   \n",
       "\n",
       "   afternoon  evening  \n",
       "0          0        0  \n",
       "1          0        0  \n",
       "2          0        0  \n",
       "3          0        0  \n",
       "4          0        0  "
      ]
     },
     "execution_count": 26,
     "metadata": {},
     "output_type": "execute_result"
    }
   ],
   "source": [
    "bike_data.rename(columns={bike_data.columns[-3]:'morning', \n",
    "                          bike_data.columns[-2]:'afternoon', \n",
    "                          bike_data.columns[-1]:'evening'}, inplace=True)\n",
    "bike_data.head()"
   ]
  },
  {
   "cell_type": "markdown",
   "metadata": {},
   "source": [
    "---------------------\n",
    "## Research question\n",
    "\n",
    "- DV: `count` ~ # rentals each hour\n",
    "- X: have a simple hypothesis of the predictive relationship ~ positive OR negative\n",
    "\n",
    "- Method: Regression -- OLS, Lasso, Ridge, ElasticNet\n",
    "\n",
    "- Graph: corr-heatmap, distribution/density,hist, distribution of DVs"
   ]
  },
  {
   "cell_type": "code",
   "execution_count": 27,
   "metadata": {},
   "outputs": [
    {
     "data": {
      "text/plain": [
       "5      169\n",
       "4      149\n",
       "3      144\n",
       "6      135\n",
       "2      132\n",
       "      ... \n",
       "667      1\n",
       "603      1\n",
       "587      1\n",
       "970      1\n",
       "843      1\n",
       "Name: count, Length: 822, dtype: int64"
      ]
     },
     "execution_count": 27,
     "metadata": {},
     "output_type": "execute_result"
    }
   ],
   "source": [
    "bike_data['count'].value_counts()"
   ]
  },
  {
   "cell_type": "code",
   "execution_count": 28,
   "metadata": {},
   "outputs": [
    {
     "data": {
      "image/png": "[encoded data removed]",
      "text/plain": [
       "<Figure size 576x432 with 1 Axes>"
      ]
     },
     "metadata": {
      "needs_background": "light"
     },
     "output_type": "display_data"
    }
   ],
   "source": [
    "plt.figure(figsize=(8,6))\n",
    "plt.hist(bike_data['count'])\n",
    "plt.title('Distribution of Dependent Variable (Total Rentals)')\n",
    "plt.show()"
   ]
  },
  {
   "cell_type": "code",
   "execution_count": 29,
   "metadata": {},
   "outputs": [
    {
     "name": "stdout",
     "output_type": "stream",
     "text": [
      "<class 'pandas.core.frame.DataFrame'>\n",
      "RangeIndex: 10886 entries, 0 to 10885\n",
      "Data columns (total 18 columns):\n",
      " #   Column      Non-Null Count  Dtype  \n",
      "---  ------      --------------  -----  \n",
      " 0   holiday     10886 non-null  int64  \n",
      " 1   workingday  10886 non-null  int64  \n",
      " 2   temp        10886 non-null  float64\n",
      " 3   atemp       10886 non-null  float64\n",
      " 4   humidity    10886 non-null  int64  \n",
      " 5   windspeed   10886 non-null  float64\n",
      " 6   casual      10886 non-null  int64  \n",
      " 7   registered  10886 non-null  int64  \n",
      " 8   count       10886 non-null  int64  \n",
      " 9   summer      10886 non-null  uint8  \n",
      " 10  fall        10886 non-null  uint8  \n",
      " 11  winter      10886 non-null  uint8  \n",
      " 12  weather_2   10886 non-null  uint8  \n",
      " 13  weather_3   10886 non-null  uint8  \n",
      " 14  weather_4   10886 non-null  uint8  \n",
      " 15  morning     10886 non-null  uint8  \n",
      " 16  afternoon   10886 non-null  uint8  \n",
      " 17  evening     10886 non-null  uint8  \n",
      "dtypes: float64(3), int64(6), uint8(9)\n",
      "memory usage: 861.2 KB\n"
     ]
    }
   ],
   "source": [
    "bike_data.info()"
   ]
  },
  {
   "cell_type": "markdown",
   "metadata": {},
   "source": [
    "----------------------\n",
    "## Data Description"
   ]
  },
  {
   "cell_type": "markdown",
   "metadata": {},
   "source": [
    "### Correlation Heat Map"
   ]
  },
  {
   "cell_type": "code",
   "execution_count": 30,
   "metadata": {},
   "outputs": [
    {
     "data": {
      "text/html": [
       "<div>\n",
       "<style scoped>\n",
       "    .dataframe tbody tr th:only-of-type {\n",
       "        vertical-align: middle;\n",
       "    }\n",
       "\n",
       "    .dataframe tbody tr th {\n",
       "        vertical-align: top;\n",
       "    }\n",
       "\n",
       "    .dataframe thead th {\n",
       "        text-align: right;\n",
       "    }\n",
       "</style>\n",
       "<table border=\"1\" class=\"dataframe\">\n",
       "  <thead>\n",
       "    <tr style=\"text-align: right;\">\n",
       "      <th></th>\n",
       "      <th>holiday</th>\n",
       "      <th>workingday</th>\n",
       "      <th>temp</th>\n",
       "      <th>atemp</th>\n",
       "      <th>humidity</th>\n",
       "      <th>windspeed</th>\n",
       "      <th>casual</th>\n",
       "      <th>registered</th>\n",
       "      <th>count</th>\n",
       "      <th>summer</th>\n",
       "      <th>fall</th>\n",
       "      <th>winter</th>\n",
       "      <th>weather_2</th>\n",
       "      <th>weather_3</th>\n",
       "      <th>weather_4</th>\n",
       "      <th>morning</th>\n",
       "      <th>afternoon</th>\n",
       "      <th>evening</th>\n",
       "    </tr>\n",
       "  </thead>\n",
       "  <tbody>\n",
       "    <tr>\n",
       "      <th>holiday</th>\n",
       "      <td>1.000000</td>\n",
       "      <td>-0.250491</td>\n",
       "      <td>0.000295</td>\n",
       "      <td>-0.005215</td>\n",
       "      <td>0.001929</td>\n",
       "      <td>0.008409</td>\n",
       "      <td>0.043799</td>\n",
       "      <td>-0.020956</td>\n",
       "      <td>-0.005393</td>\n",
       "      <td>-0.038250</td>\n",
       "      <td>0.022790</td>\n",
       "      <td>0.022751</td>\n",
       "      <td>0.013868</td>\n",
       "      <td>-0.019514</td>\n",
       "      <td>-0.001644</td>\n",
       "      <td>0.000009</td>\n",
       "      <td>-0.000209</td>\n",
       "      <td>-0.000209</td>\n",
       "    </tr>\n",
       "    <tr>\n",
       "      <th>workingday</th>\n",
       "      <td>-0.250491</td>\n",
       "      <td>1.000000</td>\n",
       "      <td>0.029966</td>\n",
       "      <td>0.024660</td>\n",
       "      <td>-0.010880</td>\n",
       "      <td>0.013373</td>\n",
       "      <td>-0.319111</td>\n",
       "      <td>0.119460</td>\n",
       "      <td>0.011594</td>\n",
       "      <td>0.014620</td>\n",
       "      <td>-0.007194</td>\n",
       "      <td>-0.007048</td>\n",
       "      <td>0.003324</td>\n",
       "      <td>0.036643</td>\n",
       "      <td>0.006562</td>\n",
       "      <td>0.000551</td>\n",
       "      <td>0.001421</td>\n",
       "      <td>0.001421</td>\n",
       "    </tr>\n",
       "    <tr>\n",
       "      <th>temp</th>\n",
       "      <td>0.000295</td>\n",
       "      <td>0.029966</td>\n",
       "      <td>1.000000</td>\n",
       "      <td>0.984948</td>\n",
       "      <td>-0.064949</td>\n",
       "      <td>-0.017852</td>\n",
       "      <td>0.467097</td>\n",
       "      <td>0.318571</td>\n",
       "      <td>0.394454</td>\n",
       "      <td>0.192661</td>\n",
       "      <td>0.635975</td>\n",
       "      <td>-0.266220</td>\n",
       "      <td>-0.046925</td>\n",
       "      <td>-0.025715</td>\n",
       "      <td>-0.014800</td>\n",
       "      <td>-0.083082</td>\n",
       "      <td>0.192212</td>\n",
       "      <td>0.026835</td>\n",
       "    </tr>\n",
       "    <tr>\n",
       "      <th>atemp</th>\n",
       "      <td>-0.005215</td>\n",
       "      <td>0.024660</td>\n",
       "      <td>0.984948</td>\n",
       "      <td>1.000000</td>\n",
       "      <td>-0.043536</td>\n",
       "      <td>-0.057473</td>\n",
       "      <td>0.462067</td>\n",
       "      <td>0.314635</td>\n",
       "      <td>0.389784</td>\n",
       "      <td>0.204421</td>\n",
       "      <td>0.607090</td>\n",
       "      <td>-0.245690</td>\n",
       "      <td>-0.040792</td>\n",
       "      <td>-0.031154</td>\n",
       "      <td>-0.013901</td>\n",
       "      <td>-0.082059</td>\n",
       "      <td>0.183220</td>\n",
       "      <td>0.028176</td>\n",
       "    </tr>\n",
       "    <tr>\n",
       "      <th>humidity</th>\n",
       "      <td>0.001929</td>\n",
       "      <td>-0.010880</td>\n",
       "      <td>-0.064949</td>\n",
       "      <td>-0.043536</td>\n",
       "      <td>1.000000</td>\n",
       "      <td>-0.318607</td>\n",
       "      <td>-0.348187</td>\n",
       "      <td>-0.265458</td>\n",
       "      <td>-0.317371</td>\n",
       "      <td>-0.031095</td>\n",
       "      <td>0.067308</td>\n",
       "      <td>0.129018</td>\n",
       "      <td>0.222398</td>\n",
       "      <td>0.295894</td>\n",
       "      <td>0.012010</td>\n",
       "      <td>0.136212</td>\n",
       "      <td>-0.366185</td>\n",
       "      <td>-0.046519</td>\n",
       "    </tr>\n",
       "    <tr>\n",
       "      <th>windspeed</th>\n",
       "      <td>0.008409</td>\n",
       "      <td>0.013373</td>\n",
       "      <td>-0.017852</td>\n",
       "      <td>-0.057473</td>\n",
       "      <td>-0.318607</td>\n",
       "      <td>1.000000</td>\n",
       "      <td>0.092276</td>\n",
       "      <td>0.091052</td>\n",
       "      <td>0.101369</td>\n",
       "      <td>0.042991</td>\n",
       "      <td>-0.091521</td>\n",
       "      <td>-0.079535</td>\n",
       "      <td>-0.045016</td>\n",
       "      <td>0.045597</td>\n",
       "      <td>-0.007979</td>\n",
       "      <td>-0.036302</td>\n",
       "      <td>0.196395</td>\n",
       "      <td>0.009199</td>\n",
       "    </tr>\n",
       "    <tr>\n",
       "      <th>casual</th>\n",
       "      <td>0.043799</td>\n",
       "      <td>-0.319111</td>\n",
       "      <td>0.467097</td>\n",
       "      <td>0.462067</td>\n",
       "      <td>-0.348187</td>\n",
       "      <td>0.092276</td>\n",
       "      <td>1.000000</td>\n",
       "      <td>0.497250</td>\n",
       "      <td>0.690414</td>\n",
       "      <td>0.132405</td>\n",
       "      <td>0.187726</td>\n",
       "      <td>-0.086258</td>\n",
       "      <td>-0.062184</td>\n",
       "      <td>-0.108853</td>\n",
       "      <td>-0.005760</td>\n",
       "      <td>-0.081833</td>\n",
       "      <td>0.444388</td>\n",
       "      <td>-0.004434</td>\n",
       "    </tr>\n",
       "    <tr>\n",
       "      <th>registered</th>\n",
       "      <td>-0.020956</td>\n",
       "      <td>0.119460</td>\n",
       "      <td>0.318571</td>\n",
       "      <td>0.314635</td>\n",
       "      <td>-0.265458</td>\n",
       "      <td>0.091052</td>\n",
       "      <td>0.497250</td>\n",
       "      <td>1.000000</td>\n",
       "      <td>0.970948</td>\n",
       "      <td>0.046969</td>\n",
       "      <td>0.102142</td>\n",
       "      <td>0.056961</td>\n",
       "      <td>-0.028997</td>\n",
       "      <td>-0.104936</td>\n",
       "      <td>0.000155</td>\n",
       "      <td>0.097455</td>\n",
       "      <td>0.267152</td>\n",
       "      <td>0.143196</td>\n",
       "    </tr>\n",
       "    <tr>\n",
       "      <th>count</th>\n",
       "      <td>-0.005393</td>\n",
       "      <td>0.011594</td>\n",
       "      <td>0.394454</td>\n",
       "      <td>0.389784</td>\n",
       "      <td>-0.317371</td>\n",
       "      <td>0.101369</td>\n",
       "      <td>0.690414</td>\n",
       "      <td>0.970948</td>\n",
       "      <td>1.000000</td>\n",
       "      <td>0.075681</td>\n",
       "      <td>0.136942</td>\n",
       "      <td>0.023704</td>\n",
       "      <td>-0.041329</td>\n",
       "      <td>-0.117519</td>\n",
       "      <td>-0.001459</td>\n",
       "      <td>0.058689</td>\n",
       "      <td>0.345317</td>\n",
       "      <td>0.118175</td>\n",
       "    </tr>\n",
       "    <tr>\n",
       "      <th>summer</th>\n",
       "      <td>-0.038250</td>\n",
       "      <td>0.014620</td>\n",
       "      <td>0.192661</td>\n",
       "      <td>0.204421</td>\n",
       "      <td>-0.031095</td>\n",
       "      <td>0.042991</td>\n",
       "      <td>0.132405</td>\n",
       "      <td>0.046969</td>\n",
       "      <td>0.075681</td>\n",
       "      <td>1.000000</td>\n",
       "      <td>-0.335214</td>\n",
       "      <td>-0.335296</td>\n",
       "      <td>-0.001687</td>\n",
       "      <td>0.006556</td>\n",
       "      <td>-0.005549</td>\n",
       "      <td>-0.000676</td>\n",
       "      <td>-0.001412</td>\n",
       "      <td>-0.001412</td>\n",
       "    </tr>\n",
       "    <tr>\n",
       "      <th>fall</th>\n",
       "      <td>0.022790</td>\n",
       "      <td>-0.007194</td>\n",
       "      <td>0.635975</td>\n",
       "      <td>0.607090</td>\n",
       "      <td>0.067308</td>\n",
       "      <td>-0.091521</td>\n",
       "      <td>0.187726</td>\n",
       "      <td>0.102142</td>\n",
       "      <td>0.136942</td>\n",
       "      <td>-0.335214</td>\n",
       "      <td>1.000000</td>\n",
       "      <td>-0.335296</td>\n",
       "      <td>-0.051895</td>\n",
       "      <td>-0.013089</td>\n",
       "      <td>-0.005549</td>\n",
       "      <td>-0.000676</td>\n",
       "      <td>-0.001412</td>\n",
       "      <td>-0.001412</td>\n",
       "    </tr>\n",
       "    <tr>\n",
       "      <th>winter</th>\n",
       "      <td>0.022751</td>\n",
       "      <td>-0.007048</td>\n",
       "      <td>-0.266220</td>\n",
       "      <td>-0.245690</td>\n",
       "      <td>0.129018</td>\n",
       "      <td>-0.079535</td>\n",
       "      <td>-0.086258</td>\n",
       "      <td>0.056961</td>\n",
       "      <td>0.023704</td>\n",
       "      <td>-0.335296</td>\n",
       "      <td>-0.335296</td>\n",
       "      <td>1.000000</td>\n",
       "      <td>0.045976</td>\n",
       "      <td>0.007278</td>\n",
       "      <td>-0.005551</td>\n",
       "      <td>-0.000799</td>\n",
       "      <td>-0.001534</td>\n",
       "      <td>-0.001534</td>\n",
       "    </tr>\n",
       "    <tr>\n",
       "      <th>weather_2</th>\n",
       "      <td>0.013868</td>\n",
       "      <td>0.003324</td>\n",
       "      <td>-0.046925</td>\n",
       "      <td>-0.040792</td>\n",
       "      <td>0.222398</td>\n",
       "      <td>-0.045016</td>\n",
       "      <td>-0.062184</td>\n",
       "      <td>-0.028997</td>\n",
       "      <td>-0.041329</td>\n",
       "      <td>-0.001687</td>\n",
       "      <td>-0.051895</td>\n",
       "      <td>0.045976</td>\n",
       "      <td>1.000000</td>\n",
       "      <td>-0.173644</td>\n",
       "      <td>-0.005686</td>\n",
       "      <td>0.058092</td>\n",
       "      <td>-0.010750</td>\n",
       "      <td>-0.055148</td>\n",
       "    </tr>\n",
       "    <tr>\n",
       "      <th>weather_3</th>\n",
       "      <td>-0.019514</td>\n",
       "      <td>0.036643</td>\n",
       "      <td>-0.025715</td>\n",
       "      <td>-0.031154</td>\n",
       "      <td>0.295894</td>\n",
       "      <td>0.045597</td>\n",
       "      <td>-0.108853</td>\n",
       "      <td>-0.104936</td>\n",
       "      <td>-0.117519</td>\n",
       "      <td>0.006556</td>\n",
       "      <td>-0.013089</td>\n",
       "      <td>0.007278</td>\n",
       "      <td>-0.173644</td>\n",
       "      <td>1.000000</td>\n",
       "      <td>-0.002805</td>\n",
       "      <td>-0.002689</td>\n",
       "      <td>0.004011</td>\n",
       "      <td>0.010295</td>\n",
       "    </tr>\n",
       "    <tr>\n",
       "      <th>weather_4</th>\n",
       "      <td>-0.001644</td>\n",
       "      <td>0.006562</td>\n",
       "      <td>-0.014800</td>\n",
       "      <td>-0.013901</td>\n",
       "      <td>0.012010</td>\n",
       "      <td>-0.007979</td>\n",
       "      <td>-0.005760</td>\n",
       "      <td>0.000155</td>\n",
       "      <td>-0.001459</td>\n",
       "      <td>-0.005549</td>\n",
       "      <td>-0.005549</td>\n",
       "      <td>-0.005551</td>\n",
       "      <td>-0.005686</td>\n",
       "      <td>-0.002805</td>\n",
       "      <td>1.000000</td>\n",
       "      <td>-0.005545</td>\n",
       "      <td>-0.005553</td>\n",
       "      <td>0.016543</td>\n",
       "    </tr>\n",
       "    <tr>\n",
       "      <th>morning</th>\n",
       "      <td>0.000009</td>\n",
       "      <td>0.000551</td>\n",
       "      <td>-0.083082</td>\n",
       "      <td>-0.082059</td>\n",
       "      <td>0.136212</td>\n",
       "      <td>-0.036302</td>\n",
       "      <td>-0.081833</td>\n",
       "      <td>0.097455</td>\n",
       "      <td>0.058689</td>\n",
       "      <td>-0.000676</td>\n",
       "      <td>-0.000676</td>\n",
       "      <td>-0.000799</td>\n",
       "      <td>0.058092</td>\n",
       "      <td>-0.002689</td>\n",
       "      <td>-0.005545</td>\n",
       "      <td>1.000000</td>\n",
       "      <td>-0.335214</td>\n",
       "      <td>-0.335214</td>\n",
       "    </tr>\n",
       "    <tr>\n",
       "      <th>afternoon</th>\n",
       "      <td>-0.000209</td>\n",
       "      <td>0.001421</td>\n",
       "      <td>0.192212</td>\n",
       "      <td>0.183220</td>\n",
       "      <td>-0.366185</td>\n",
       "      <td>0.196395</td>\n",
       "      <td>0.444388</td>\n",
       "      <td>0.267152</td>\n",
       "      <td>0.345317</td>\n",
       "      <td>-0.001412</td>\n",
       "      <td>-0.001412</td>\n",
       "      <td>-0.001534</td>\n",
       "      <td>-0.010750</td>\n",
       "      <td>0.004011</td>\n",
       "      <td>-0.005553</td>\n",
       "      <td>-0.335214</td>\n",
       "      <td>1.000000</td>\n",
       "      <td>-0.335706</td>\n",
       "    </tr>\n",
       "    <tr>\n",
       "      <th>evening</th>\n",
       "      <td>-0.000209</td>\n",
       "      <td>0.001421</td>\n",
       "      <td>0.026835</td>\n",
       "      <td>0.028176</td>\n",
       "      <td>-0.046519</td>\n",
       "      <td>0.009199</td>\n",
       "      <td>-0.004434</td>\n",
       "      <td>0.143196</td>\n",
       "      <td>0.118175</td>\n",
       "      <td>-0.001412</td>\n",
       "      <td>-0.001412</td>\n",
       "      <td>-0.001534</td>\n",
       "      <td>-0.055148</td>\n",
       "      <td>0.010295</td>\n",
       "      <td>0.016543</td>\n",
       "      <td>-0.335214</td>\n",
       "      <td>-0.335706</td>\n",
       "      <td>1.000000</td>\n",
       "    </tr>\n",
       "  </tbody>\n",
       "</table>\n",
       "</div>"
      ],
      "text/plain": [
       "             holiday  workingday      temp     atemp  humidity  windspeed  \\\n",
       "holiday     1.000000   -0.250491  0.000295 -0.005215  0.001929   0.008409   \n",
       "workingday -0.250491    1.000000  0.029966  0.024660 -0.010880   0.013373   \n",
       "temp        0.000295    0.029966  1.000000  0.984948 -0.064949  -0.017852   \n",
       "atemp      -0.005215    0.024660  0.984948  1.000000 -0.043536  -0.057473   \n",
       "humidity    0.001929   -0.010880 -0.064949 -0.043536  1.000000  -0.318607   \n",
       "windspeed   0.008409    0.013373 -0.017852 -0.057473 -0.318607   1.000000   \n",
       "casual      0.043799   -0.319111  0.467097  0.462067 -0.348187   0.092276   \n",
       "registered -0.020956    0.119460  0.318571  0.314635 -0.265458   0.091052   \n",
       "count      -0.005393    0.011594  0.394454  0.389784 -0.317371   0.101369   \n",
       "summer     -0.038250    0.014620  0.192661  0.204421 -0.031095   0.042991   \n",
       "fall        0.022790   -0.007194  0.635975  0.607090  0.067308  -0.091521   \n",
       "winter      0.022751   -0.007048 -0.266220 -0.245690  0.129018  -0.079535   \n",
       "weather_2   0.013868    0.003324 -0.046925 -0.040792  0.222398  -0.045016   \n",
       "weather_3  -0.019514    0.036643 -0.025715 -0.031154  0.295894   0.045597   \n",
       "weather_4  -0.001644    0.006562 -0.014800 -0.013901  0.012010  -0.007979   \n",
       "morning     0.000009    0.000551 -0.083082 -0.082059  0.136212  -0.036302   \n",
       "afternoon  -0.000209    0.001421  0.192212  0.183220 -0.366185   0.196395   \n",
       "evening    -0.000209    0.001421  0.026835  0.028176 -0.046519   0.009199   \n",
       "\n",
       "              casual  registered     count    summer      fall    winter  \\\n",
       "holiday     0.043799   -0.020956 -0.005393 -0.038250  0.022790  0.022751   \n",
       "workingday -0.319111    0.119460  0.011594  0.014620 -0.007194 -0.007048   \n",
       "temp        0.467097    0.318571  0.394454  0.192661  0.635975 -0.266220   \n",
       "atemp       0.462067    0.314635  0.389784  0.204421  0.607090 -0.245690   \n",
       "humidity   -0.348187   -0.265458 -0.317371 -0.031095  0.067308  0.129018   \n",
       "windspeed   0.092276    0.091052  0.101369  0.042991 -0.091521 -0.079535   \n",
       "casual      1.000000    0.497250  0.690414  0.132405  0.187726 -0.086258   \n",
       "registered  0.497250    1.000000  0.970948  0.046969  0.102142  0.056961   \n",
       "count       0.690414    0.970948  1.000000  0.075681  0.136942  0.023704   \n",
       "summer      0.132405    0.046969  0.075681  1.000000 -0.335214 -0.335296   \n",
       "fall        0.187726    0.102142  0.136942 -0.335214  1.000000 -0.335296   \n",
       "winter     -0.086258    0.056961  0.023704 -0.335296 -0.335296  1.000000   \n",
       "weather_2  -0.062184   -0.028997 -0.041329 -0.001687 -0.051895  0.045976   \n",
       "weather_3  -0.108853   -0.104936 -0.117519  0.006556 -0.013089  0.007278   \n",
       "weather_4  -0.005760    0.000155 -0.001459 -0.005549 -0.005549 -0.005551   \n",
       "morning    -0.081833    0.097455  0.058689 -0.000676 -0.000676 -0.000799   \n",
       "afternoon   0.444388    0.267152  0.345317 -0.001412 -0.001412 -0.001534   \n",
       "evening    -0.004434    0.143196  0.118175 -0.001412 -0.001412 -0.001534   \n",
       "\n",
       "            weather_2  weather_3  weather_4   morning  afternoon   evening  \n",
       "holiday      0.013868  -0.019514  -0.001644  0.000009  -0.000209 -0.000209  \n",
       "workingday   0.003324   0.036643   0.006562  0.000551   0.001421  0.001421  \n",
       "temp        -0.046925  -0.025715  -0.014800 -0.083082   0.192212  0.026835  \n",
       "atemp       -0.040792  -0.031154  -0.013901 -0.082059   0.183220  0.028176  \n",
       "humidity     0.222398   0.295894   0.012010  0.136212  -0.366185 -0.046519  \n",
       "windspeed   -0.045016   0.045597  -0.007979 -0.036302   0.196395  0.009199  \n",
       "casual      -0.062184  -0.108853  -0.005760 -0.081833   0.444388 -0.004434  \n",
       "registered  -0.028997  -0.104936   0.000155  0.097455   0.267152  0.143196  \n",
       "count       -0.041329  -0.117519  -0.001459  0.058689   0.345317  0.118175  \n",
       "summer      -0.001687   0.006556  -0.005549 -0.000676  -0.001412 -0.001412  \n",
       "fall        -0.051895  -0.013089  -0.005549 -0.000676  -0.001412 -0.001412  \n",
       "winter       0.045976   0.007278  -0.005551 -0.000799  -0.001534 -0.001534  \n",
       "weather_2    1.000000  -0.173644  -0.005686  0.058092  -0.010750 -0.055148  \n",
       "weather_3   -0.173644   1.000000  -0.002805 -0.002689   0.004011  0.010295  \n",
       "weather_4   -0.005686  -0.002805   1.000000 -0.005545  -0.005553  0.016543  \n",
       "morning      0.058092  -0.002689  -0.005545  1.000000  -0.335214 -0.335214  \n",
       "afternoon   -0.010750   0.004011  -0.005553 -0.335214   1.000000 -0.335706  \n",
       "evening     -0.055148   0.010295   0.016543 -0.335214  -0.335706  1.000000  "
      ]
     },
     "execution_count": 30,
     "metadata": {},
     "output_type": "execute_result"
    }
   ],
   "source": [
    "bike_data.corr()"
   ]
  },
  {
   "cell_type": "code",
   "execution_count": 31,
   "metadata": {},
   "outputs": [
    {
     "data": {
      "image/png": "[encoded data removed]",
      "text/plain": [
       "<Figure size 720x576 with 2 Axes>"
      ]
     },
     "metadata": {
      "needs_background": "light"
     },
     "output_type": "display_data"
    }
   ],
   "source": [
    "plt.figure(figsize=(10,8))\n",
    "plt.title('Correlation Heatmap')\n",
    "sns.heatmap(bike_data.corr(),annot=False, fmt=\"f\", cmap=\"YlGnBu\", linewidths=0.5)\n",
    "plt.show()"
   ]
  },
  {
   "cell_type": "code",
   "execution_count": 32,
   "metadata": {},
   "outputs": [
    {
     "data": {
      "image/png": "[encoded data removed]",
      "text/plain": [
       "<Figure size 720x576 with 2 Axes>"
      ]
     },
     "metadata": {
      "needs_background": "light"
     },
     "output_type": "display_data"
    }
   ],
   "source": [
    "var = bike_data.drop(['casual']+['registered']+['summer']+['fall']+['winter']\n",
    "                     +['weather_2']+['weather_3']+['weather_4']\n",
    "                     +['morning']+['afternoon']+['evening'],axis=1)\n",
    "\n",
    "correlation_matrix = var.corr()\n",
    "\n",
    "\n",
    "plt.figure(figsize=(10,8))\n",
    "plt.title('Correlation Heatmap')\n",
    "sns.heatmap(correlation_matrix,annot=True, fmt=\".2f\", cmap=\"YlGnBu\", linewidths=0.5)\n",
    "plt.show()"
   ]
  },
  {
   "cell_type": "markdown",
   "metadata": {},
   "source": [
    "--------------"
   ]
  },
  {
   "cell_type": "markdown",
   "metadata": {},
   "source": [
    "## Modeling"
   ]
  },
  {
   "cell_type": "code",
   "execution_count": 33,
   "metadata": {},
   "outputs": [
    {
     "data": {
      "text/html": [
       "<div>\n",
       "<style scoped>\n",
       "    .dataframe tbody tr th:only-of-type {\n",
       "        vertical-align: middle;\n",
       "    }\n",
       "\n",
       "    .dataframe tbody tr th {\n",
       "        vertical-align: top;\n",
       "    }\n",
       "\n",
       "    .dataframe thead th {\n",
       "        text-align: right;\n",
       "    }\n",
       "</style>\n",
       "<table border=\"1\" class=\"dataframe\">\n",
       "  <thead>\n",
       "    <tr style=\"text-align: right;\">\n",
       "      <th></th>\n",
       "      <th>holiday</th>\n",
       "      <th>workingday</th>\n",
       "      <th>temp</th>\n",
       "      <th>atemp</th>\n",
       "      <th>humidity</th>\n",
       "      <th>windspeed</th>\n",
       "      <th>casual</th>\n",
       "      <th>registered</th>\n",
       "      <th>count</th>\n",
       "      <th>summer</th>\n",
       "      <th>fall</th>\n",
       "      <th>winter</th>\n",
       "      <th>weather_2</th>\n",
       "      <th>weather_3</th>\n",
       "      <th>weather_4</th>\n",
       "      <th>morning</th>\n",
       "      <th>afternoon</th>\n",
       "      <th>evening</th>\n",
       "    </tr>\n",
       "  </thead>\n",
       "  <tbody>\n",
       "    <tr>\n",
       "      <th>0</th>\n",
       "      <td>0</td>\n",
       "      <td>0</td>\n",
       "      <td>9.84</td>\n",
       "      <td>14.395</td>\n",
       "      <td>81</td>\n",
       "      <td>0.0</td>\n",
       "      <td>3</td>\n",
       "      <td>13</td>\n",
       "      <td>16</td>\n",
       "      <td>0</td>\n",
       "      <td>0</td>\n",
       "      <td>0</td>\n",
       "      <td>0</td>\n",
       "      <td>0</td>\n",
       "      <td>0</td>\n",
       "      <td>0</td>\n",
       "      <td>0</td>\n",
       "      <td>0</td>\n",
       "    </tr>\n",
       "    <tr>\n",
       "      <th>1</th>\n",
       "      <td>0</td>\n",
       "      <td>0</td>\n",
       "      <td>9.02</td>\n",
       "      <td>13.635</td>\n",
       "      <td>80</td>\n",
       "      <td>0.0</td>\n",
       "      <td>8</td>\n",
       "      <td>32</td>\n",
       "      <td>40</td>\n",
       "      <td>0</td>\n",
       "      <td>0</td>\n",
       "      <td>0</td>\n",
       "      <td>0</td>\n",
       "      <td>0</td>\n",
       "      <td>0</td>\n",
       "      <td>0</td>\n",
       "      <td>0</td>\n",
       "      <td>0</td>\n",
       "    </tr>\n",
       "    <tr>\n",
       "      <th>2</th>\n",
       "      <td>0</td>\n",
       "      <td>0</td>\n",
       "      <td>9.02</td>\n",
       "      <td>13.635</td>\n",
       "      <td>80</td>\n",
       "      <td>0.0</td>\n",
       "      <td>5</td>\n",
       "      <td>27</td>\n",
       "      <td>32</td>\n",
       "      <td>0</td>\n",
       "      <td>0</td>\n",
       "      <td>0</td>\n",
       "      <td>0</td>\n",
       "      <td>0</td>\n",
       "      <td>0</td>\n",
       "      <td>0</td>\n",
       "      <td>0</td>\n",
       "      <td>0</td>\n",
       "    </tr>\n",
       "    <tr>\n",
       "      <th>3</th>\n",
       "      <td>0</td>\n",
       "      <td>0</td>\n",
       "      <td>9.84</td>\n",
       "      <td>14.395</td>\n",
       "      <td>75</td>\n",
       "      <td>0.0</td>\n",
       "      <td>3</td>\n",
       "      <td>10</td>\n",
       "      <td>13</td>\n",
       "      <td>0</td>\n",
       "      <td>0</td>\n",
       "      <td>0</td>\n",
       "      <td>0</td>\n",
       "      <td>0</td>\n",
       "      <td>0</td>\n",
       "      <td>0</td>\n",
       "      <td>0</td>\n",
       "      <td>0</td>\n",
       "    </tr>\n",
       "    <tr>\n",
       "      <th>4</th>\n",
       "      <td>0</td>\n",
       "      <td>0</td>\n",
       "      <td>9.84</td>\n",
       "      <td>14.395</td>\n",
       "      <td>75</td>\n",
       "      <td>0.0</td>\n",
       "      <td>0</td>\n",
       "      <td>1</td>\n",
       "      <td>1</td>\n",
       "      <td>0</td>\n",
       "      <td>0</td>\n",
       "      <td>0</td>\n",
       "      <td>0</td>\n",
       "      <td>0</td>\n",
       "      <td>0</td>\n",
       "      <td>0</td>\n",
       "      <td>0</td>\n",
       "      <td>0</td>\n",
       "    </tr>\n",
       "  </tbody>\n",
       "</table>\n",
       "</div>"
      ],
      "text/plain": [
       "   holiday  workingday  temp   atemp  humidity  windspeed  casual  registered  \\\n",
       "0        0           0  9.84  14.395        81        0.0       3          13   \n",
       "1        0           0  9.02  13.635        80        0.0       8          32   \n",
       "2        0           0  9.02  13.635        80        0.0       5          27   \n",
       "3        0           0  9.84  14.395        75        0.0       3          10   \n",
       "4        0           0  9.84  14.395        75        0.0       0           1   \n",
       "\n",
       "   count  summer  fall  winter  weather_2  weather_3  weather_4  morning  \\\n",
       "0     16       0     0       0          0          0          0        0   \n",
       "1     40       0     0       0          0          0          0        0   \n",
       "2     32       0     0       0          0          0          0        0   \n",
       "3     13       0     0       0          0          0          0        0   \n",
       "4      1       0     0       0          0          0          0        0   \n",
       "\n",
       "   afternoon  evening  \n",
       "0          0        0  \n",
       "1          0        0  \n",
       "2          0        0  \n",
       "3          0        0  \n",
       "4          0        0  "
      ]
     },
     "execution_count": 33,
     "metadata": {},
     "output_type": "execute_result"
    }
   ],
   "source": [
    "#bike_data['temp_sq'] = bike_data['temp']**2\n",
    "#bike_data['atemp_sq'] = bike_data['atemp']**2\n",
    "#bike_data['humid_sq'] = bike_data['humidity']**2\n",
    "\n",
    "bike_data.head()"
   ]
  },
  {
   "cell_type": "code",
   "execution_count": 34,
   "metadata": {},
   "outputs": [
    {
     "data": {
      "text/html": [
       "<div>\n",
       "<style scoped>\n",
       "    .dataframe tbody tr th:only-of-type {\n",
       "        vertical-align: middle;\n",
       "    }\n",
       "\n",
       "    .dataframe tbody tr th {\n",
       "        vertical-align: top;\n",
       "    }\n",
       "\n",
       "    .dataframe thead th {\n",
       "        text-align: right;\n",
       "    }\n",
       "</style>\n",
       "<table border=\"1\" class=\"dataframe\">\n",
       "  <thead>\n",
       "    <tr style=\"text-align: right;\">\n",
       "      <th></th>\n",
       "      <th>holiday</th>\n",
       "      <th>workingday</th>\n",
       "      <th>temp</th>\n",
       "      <th>atemp</th>\n",
       "      <th>humidity</th>\n",
       "      <th>windspeed</th>\n",
       "      <th>summer</th>\n",
       "      <th>fall</th>\n",
       "      <th>winter</th>\n",
       "      <th>weather_2</th>\n",
       "      <th>weather_3</th>\n",
       "      <th>weather_4</th>\n",
       "      <th>morning</th>\n",
       "      <th>afternoon</th>\n",
       "      <th>evening</th>\n",
       "    </tr>\n",
       "  </thead>\n",
       "  <tbody>\n",
       "    <tr>\n",
       "      <th>0</th>\n",
       "      <td>0</td>\n",
       "      <td>0</td>\n",
       "      <td>9.84</td>\n",
       "      <td>14.395</td>\n",
       "      <td>81</td>\n",
       "      <td>0.0</td>\n",
       "      <td>0</td>\n",
       "      <td>0</td>\n",
       "      <td>0</td>\n",
       "      <td>0</td>\n",
       "      <td>0</td>\n",
       "      <td>0</td>\n",
       "      <td>0</td>\n",
       "      <td>0</td>\n",
       "      <td>0</td>\n",
       "    </tr>\n",
       "    <tr>\n",
       "      <th>1</th>\n",
       "      <td>0</td>\n",
       "      <td>0</td>\n",
       "      <td>9.02</td>\n",
       "      <td>13.635</td>\n",
       "      <td>80</td>\n",
       "      <td>0.0</td>\n",
       "      <td>0</td>\n",
       "      <td>0</td>\n",
       "      <td>0</td>\n",
       "      <td>0</td>\n",
       "      <td>0</td>\n",
       "      <td>0</td>\n",
       "      <td>0</td>\n",
       "      <td>0</td>\n",
       "      <td>0</td>\n",
       "    </tr>\n",
       "    <tr>\n",
       "      <th>2</th>\n",
       "      <td>0</td>\n",
       "      <td>0</td>\n",
       "      <td>9.02</td>\n",
       "      <td>13.635</td>\n",
       "      <td>80</td>\n",
       "      <td>0.0</td>\n",
       "      <td>0</td>\n",
       "      <td>0</td>\n",
       "      <td>0</td>\n",
       "      <td>0</td>\n",
       "      <td>0</td>\n",
       "      <td>0</td>\n",
       "      <td>0</td>\n",
       "      <td>0</td>\n",
       "      <td>0</td>\n",
       "    </tr>\n",
       "    <tr>\n",
       "      <th>3</th>\n",
       "      <td>0</td>\n",
       "      <td>0</td>\n",
       "      <td>9.84</td>\n",
       "      <td>14.395</td>\n",
       "      <td>75</td>\n",
       "      <td>0.0</td>\n",
       "      <td>0</td>\n",
       "      <td>0</td>\n",
       "      <td>0</td>\n",
       "      <td>0</td>\n",
       "      <td>0</td>\n",
       "      <td>0</td>\n",
       "      <td>0</td>\n",
       "      <td>0</td>\n",
       "      <td>0</td>\n",
       "    </tr>\n",
       "    <tr>\n",
       "      <th>4</th>\n",
       "      <td>0</td>\n",
       "      <td>0</td>\n",
       "      <td>9.84</td>\n",
       "      <td>14.395</td>\n",
       "      <td>75</td>\n",
       "      <td>0.0</td>\n",
       "      <td>0</td>\n",
       "      <td>0</td>\n",
       "      <td>0</td>\n",
       "      <td>0</td>\n",
       "      <td>0</td>\n",
       "      <td>0</td>\n",
       "      <td>0</td>\n",
       "      <td>0</td>\n",
       "      <td>0</td>\n",
       "    </tr>\n",
       "  </tbody>\n",
       "</table>\n",
       "</div>"
      ],
      "text/plain": [
       "   holiday  workingday  temp   atemp  humidity  windspeed  summer  fall  \\\n",
       "0        0           0  9.84  14.395        81        0.0       0     0   \n",
       "1        0           0  9.02  13.635        80        0.0       0     0   \n",
       "2        0           0  9.02  13.635        80        0.0       0     0   \n",
       "3        0           0  9.84  14.395        75        0.0       0     0   \n",
       "4        0           0  9.84  14.395        75        0.0       0     0   \n",
       "\n",
       "   winter  weather_2  weather_3  weather_4  morning  afternoon  evening  \n",
       "0       0          0          0          0        0          0        0  \n",
       "1       0          0          0          0        0          0        0  \n",
       "2       0          0          0          0        0          0        0  \n",
       "3       0          0          0          0        0          0        0  \n",
       "4       0          0          0          0        0          0        0  "
      ]
     },
     "execution_count": 34,
     "metadata": {},
     "output_type": "execute_result"
    }
   ],
   "source": [
    "X = bike_data.drop(columns = ['casual','count','registered'])\n",
    "y = bike_data['count']\n",
    "\n",
    "X.head()"
   ]
  },
  {
   "cell_type": "code",
   "execution_count": 35,
   "metadata": {},
   "outputs": [
    {
     "data": {
      "text/plain": [
       "0    16\n",
       "1    40\n",
       "2    32\n",
       "3    13\n",
       "4     1\n",
       "Name: count, dtype: int64"
      ]
     },
     "execution_count": 35,
     "metadata": {},
     "output_type": "execute_result"
    }
   ],
   "source": [
    "y.head()"
   ]
  },
  {
   "cell_type": "code",
   "execution_count": 36,
   "metadata": {},
   "outputs": [],
   "source": [
    "from sklearn.model_selection import train_test_split\n",
    "\n",
    "seed = 666\n",
    "X_train, X_test, y_train, y_test = train_test_split(X, y, test_size=0.25, random_state=seed)"
   ]
  },
  {
   "cell_type": "markdown",
   "metadata": {},
   "source": [
    "## 1. Simple practices\n",
    "### 1) linear regression"
   ]
  },
  {
   "cell_type": "code",
   "execution_count": 37,
   "metadata": {},
   "outputs": [
    {
     "name": "stdout",
     "output_type": "stream",
     "text": [
      "Linear regression: \n",
      "\n",
      " MSE =  17940.960278180693 \n",
      " R-square =  0.4477953202321728\n"
     ]
    }
   ],
   "source": [
    "from sklearn.linear_model import LinearRegression \n",
    "from sklearn.metrics import mean_squared_error\n",
    "\n",
    "\n",
    "lr_model = LinearRegression()\n",
    "lr_model.fit(X_train, y_train)\n",
    "lr_pred = lr_model.predict(X_test)\n",
    "\n",
    "simple_lr_r2 = lr_model.score(X_test, y_test)\n",
    "simple_lr_mse = mean_squared_error(y_test,lr_pred)\n",
    "\n",
    "print('Linear regression: \\n\\n',\n",
    "     'MSE = ', simple_lr_mse, '\\n',\n",
    "     'R-square = ', simple_lr_r2)"
   ]
  },
  {
   "cell_type": "markdown",
   "metadata": {},
   "source": [
    "### 2) Ridge regression"
   ]
  },
  {
   "cell_type": "code",
   "execution_count": 38,
   "metadata": {},
   "outputs": [
    {
     "name": "stdout",
     "output_type": "stream",
     "text": [
      "Ridge regression: \n",
      "\n",
      " MSE =  17941.752717006097 \n",
      " R-square =  0.4477709297636008\n"
     ]
    }
   ],
   "source": [
    "from sklearn.linear_model import Ridge\n",
    "\n",
    "ridge_model = Ridge()\n",
    "ridge_model.fit(X_train, y_train)\n",
    "ridge_pred = ridge_model.predict(X_test)\n",
    "\n",
    "simple_ridge_mse = mean_squared_error(y_test,ridge_pred)\n",
    "simple_ridge_r2 = ridge_model.score(X_test, y_test)\n",
    "\n",
    "print('Ridge regression: \\n\\n',\n",
    "     'MSE = ', simple_ridge_mse, '\\n',\n",
    "     'R-square = ', simple_ridge_r2)"
   ]
  },
  {
   "cell_type": "markdown",
   "metadata": {},
   "source": [
    "### 3) Lasso regression\n"
   ]
  },
  {
   "cell_type": "code",
   "execution_count": 39,
   "metadata": {},
   "outputs": [
    {
     "name": "stdout",
     "output_type": "stream",
     "text": [
      "Lasso regression: \n",
      "\n",
      " MSE =  18069.290531823906 \n",
      " R-square =  0.4438454443326225\n"
     ]
    }
   ],
   "source": [
    "from sklearn.linear_model import Lasso\n",
    "\n",
    "lasso_model = Lasso(max_iter=7000)\n",
    "lasso_model.fit(X_train, y_train)\n",
    "lasso_pred = lasso_model.predict(X_test)\n",
    "\n",
    "simple_lasso_mse = mean_squared_error(y_test,lasso_pred)\n",
    "simple_lasso_r2 = lasso_model.score(X_test, y_test)\n",
    "\n",
    "print('Lasso regression: \\n\\n',\n",
    "     'MSE = ', simple_lasso_mse, '\\n',\n",
    "     'R-square = ', simple_lasso_r2)"
   ]
  },
  {
   "cell_type": "markdown",
   "metadata": {},
   "source": [
    "### 4) Elastic Net"
   ]
  },
  {
   "cell_type": "code",
   "execution_count": 40,
   "metadata": {},
   "outputs": [
    {
     "name": "stdout",
     "output_type": "stream",
     "text": [
      "ElasticNet regression: \n",
      "\n",
      " MSE =  23418.536931558938 \n",
      " R-square =  0.2792010301338289\n"
     ]
    }
   ],
   "source": [
    "from sklearn.linear_model import ElasticNet\n",
    "\n",
    "elastic_model = ElasticNet(alpha=1.0, l1_ratio=0.5, max_iter=7000)\n",
    "elastic_model.fit(X_train, y_train)\n",
    "elastic_pred = elastic_model.predict(X_test)\n",
    "\n",
    "simple_elastic_mse = mean_squared_error(y_test,elastic_pred)\n",
    "simple_elastic_r2 = elastic_model.score(X_test, y_test) \n",
    "\n",
    "print('ElasticNet regression: \\n\\n',\n",
    "     'MSE = ',simple_elastic_mse, '\\n',\n",
    "     'R-square = ', simple_elastic_r2)"
   ]
  },
  {
   "cell_type": "markdown",
   "metadata": {},
   "source": [
    "### 5) K-nearest-neighbor regression"
   ]
  },
  {
   "cell_type": "code",
   "execution_count": 41,
   "metadata": {},
   "outputs": [
    {
     "name": "stdout",
     "output_type": "stream",
     "text": [
      "K nearest neighbors regression: \n",
      "\n",
      " MSE =  25215.24831741367 \n",
      " R-square =  0.22390006407195373\n"
     ]
    }
   ],
   "source": [
    "from sklearn import neighbors\n",
    "\n",
    "knn_model = neighbors.KNeighborsRegressor()\n",
    "knn_model.fit(X_train, y_train)\n",
    "knn_pred = knn_model.predict(X_test)\n",
    "\n",
    "simple_knn_mse = mean_squared_error(y_test,knn_pred)\n",
    "simple_knn_r2 = knn_model.score(X_test, y_test)\n",
    "\n",
    "print('K nearest neighbors regression: \\n\\n',\n",
    "     'MSE = ', simple_knn_mse, '\\n',\n",
    "     'R-square = ', simple_knn_r2)"
   ]
  },
  {
   "cell_type": "markdown",
   "metadata": {},
   "source": [
    "### 6) Decision tree regression"
   ]
  },
  {
   "cell_type": "code",
   "execution_count": 42,
   "metadata": {},
   "outputs": [
    {
     "name": "stdout",
     "output_type": "stream",
     "text": [
      "Decision tree regression: \n",
      "\n",
      " MSE =  26592.348768470896 \n",
      " R-square =  0.18151429977654887\n"
     ]
    }
   ],
   "source": [
    "from sklearn.tree import DecisionTreeRegressor\n",
    "\n",
    "dt_model = DecisionTreeRegressor(random_state=seed)\n",
    "dt_model.fit(X_train, y_train)\n",
    "dt_pred = dt_model.predict(X_test)\n",
    "\n",
    "simple_dt_mse = mean_squared_error(y_test,dt_pred)\n",
    "simple_dt_r2 = dt_model.score(X_test, y_test)\n",
    "\n",
    "print('Decision tree regression: \\n\\n',\n",
    "     'MSE = ',simple_dt_mse, '\\n',\n",
    "     'R-square = ', simple_dt_r2)"
   ]
  },
  {
   "cell_type": "markdown",
   "metadata": {},
   "source": [
    "### 7) Random Forest Regression "
   ]
  },
  {
   "cell_type": "code",
   "execution_count": 43,
   "metadata": {},
   "outputs": [
    {
     "name": "stdout",
     "output_type": "stream",
     "text": [
      "Random Forest regression: \n",
      "\n",
      " MSE =  15533.48288278446 \n",
      " R-square =  0.52189504865027\n"
     ]
    }
   ],
   "source": [
    "from sklearn.ensemble import RandomForestRegressor \n",
    "\n",
    "rf_model = RandomForestRegressor(random_state=seed)\n",
    "rf_model.fit(X_train, y_train)\n",
    "rf_pred = rf_model.predict(X_test)\n",
    "\n",
    "simple_rf_mse = mean_squared_error(y_test, rf_pred)\n",
    "simple_rf_r2 = rf_model.score(X_test, y_test)\n",
    "\n",
    "print('Random Forest regression: \\n\\n',\n",
    "     'MSE = ',simple_rf_mse, '\\n',\n",
    "     'R-square = ', simple_rf_r2)"
   ]
  },
  {
   "cell_type": "markdown",
   "metadata": {},
   "source": [
    "## 2. Hyperparameter tuning"
   ]
  },
  {
   "cell_type": "markdown",
   "metadata": {},
   "source": [
    "### 1) Ridge"
   ]
  },
  {
   "cell_type": "code",
   "execution_count": 44,
   "metadata": {},
   "outputs": [
    {
     "data": {
      "text/plain": [
       "GridSearchCV(cv=10, error_score=nan,\n",
       "             estimator=Ridge(alpha=1.0, copy_X=True, fit_intercept=True,\n",
       "                             max_iter=None, normalize=False, random_state=None,\n",
       "                             solver='auto', tol=0.001),\n",
       "             iid='deprecated', n_jobs=None,\n",
       "             param_grid={'alpha': [0.1, 0.2, 0.3, 0.4, 0.5, 0.6, 0.7, 0.8, 0.9,\n",
       "                                   1.0]},\n",
       "             pre_dispatch='2*n_jobs', refit=True, return_train_score=False,\n",
       "             scoring=None, verbose=0)"
      ]
     },
     "execution_count": 44,
     "metadata": {},
     "output_type": "execute_result"
    }
   ],
   "source": [
    "from sklearn.model_selection import GridSearchCV\n",
    "\n",
    "param_grid = {'alpha':[0.1,0.2,0.3,0.4,0.5,0.6,0.7,0.8,0.9,1.0]}\n",
    "\n",
    "ridge_grid = GridSearchCV(ridge_model, param_grid, cv=10)\n",
    "ridge_grid.fit(X_train, y_train)"
   ]
  },
  {
   "cell_type": "code",
   "execution_count": 45,
   "metadata": {},
   "outputs": [
    {
     "name": "stdout",
     "output_type": "stream",
     "text": [
      "{'alpha': 1.0}\n",
      "0.4400499314758818\n"
     ]
    }
   ],
   "source": [
    "print(ridge_grid.best_params_)\n",
    "print(ridge_grid.best_score_)"
   ]
  },
  {
   "cell_type": "code",
   "execution_count": 46,
   "metadata": {},
   "outputs": [
    {
     "name": "stdout",
     "output_type": "stream",
     "text": [
      "GridSearchCV of ridge regression: \n",
      "\n",
      " MSE =  17941.752717006097 \n",
      " R-square =  0.4477709297636008\n"
     ]
    }
   ],
   "source": [
    "ridge_tuned = ridge_grid.best_estimator_\n",
    "ridge_tuned_pred = ridge_tuned.predict(X_test)\n",
    "\n",
    "tuned_ridge_mse = mean_squared_error(y_test, ridge_tuned_pred)\n",
    "tuned_ridge_r2 = ridge_tuned.score(X_test, y_test)\n",
    "\n",
    "print('GridSearchCV of ridge regression: \\n\\n',\n",
    "     'MSE = ', tuned_ridge_mse, '\\n',\n",
    "     'R-square = ',tuned_ridge_r2)"
   ]
  },
  {
   "cell_type": "markdown",
   "metadata": {},
   "source": [
    "### 2) Lasso"
   ]
  },
  {
   "cell_type": "code",
   "execution_count": 47,
   "metadata": {},
   "outputs": [
    {
     "data": {
      "text/plain": [
       "GridSearchCV(cv=10, error_score=nan,\n",
       "             estimator=Lasso(alpha=1.0, copy_X=True, fit_intercept=True,\n",
       "                             max_iter=10000, normalize=False, positive=False,\n",
       "                             precompute=False, random_state=None,\n",
       "                             selection='cyclic', tol=0.0001, warm_start=False),\n",
       "             iid='deprecated', n_jobs=None,\n",
       "             param_grid={'alpha': [0.1, 0.2, 0.3, 0.4, 0.5, 0.6, 0.7, 0.8, 0.9,\n",
       "                                   1.0]},\n",
       "             pre_dispatch='2*n_jobs', refit=True, return_train_score=False,\n",
       "             scoring=None, verbose=0)"
      ]
     },
     "execution_count": 47,
     "metadata": {},
     "output_type": "execute_result"
    }
   ],
   "source": [
    "lasso_model = Lasso(max_iter=10000)\n",
    "lasso_grid = GridSearchCV(lasso_model, param_grid, cv=10)\n",
    "lasso_grid.fit(X_train, y_train)"
   ]
  },
  {
   "cell_type": "code",
   "execution_count": 48,
   "metadata": {},
   "outputs": [
    {
     "name": "stdout",
     "output_type": "stream",
     "text": [
      "{'alpha': 0.2}\n",
      "0.440182240283129\n"
     ]
    }
   ],
   "source": [
    "print(lasso_grid.best_params_)\n",
    "print(lasso_grid.best_score_)"
   ]
  },
  {
   "cell_type": "code",
   "execution_count": 49,
   "metadata": {},
   "outputs": [
    {
     "name": "stdout",
     "output_type": "stream",
     "text": [
      "GridSearchCV of lasso regression: \n",
      "\n",
      " MSE =  17952.947370431382 \n",
      " R-square =  0.44742636961107984\n"
     ]
    }
   ],
   "source": [
    "lasso_tuned = lasso_grid.best_estimator_\n",
    "lasso_tuned_pred = lasso_tuned.predict(X_test)\n",
    "\n",
    "tuned_lasso_mse = mean_squared_error(y_test, lasso_tuned_pred)\n",
    "tuned_lasso_r2 = lasso_tuned.score(X_test, y_test)\n",
    "\n",
    "print('GridSearchCV of lasso regression: \\n\\n',\n",
    "     'MSE = ', tuned_lasso_mse, '\\n',\n",
    "     'R-square = ',tuned_lasso_r2)"
   ]
  },
  {
   "cell_type": "markdown",
   "metadata": {},
   "source": [
    "### 3) Elastic Net"
   ]
  },
  {
   "cell_type": "code",
   "execution_count": 50,
   "metadata": {},
   "outputs": [
    {
     "data": {
      "text/plain": [
       "GridSearchCV(cv=10, error_score=nan,\n",
       "             estimator=ElasticNet(alpha=1.0, copy_X=True, fit_intercept=True,\n",
       "                                  l1_ratio=0.5, max_iter=10000, normalize=False,\n",
       "                                  positive=False, precompute=False,\n",
       "                                  random_state=None, selection='cyclic',\n",
       "                                  tol=0.0001, warm_start=False),\n",
       "             iid='deprecated', n_jobs=None,\n",
       "             param_grid={'alpha': [0.2, 0.6, 1.0],\n",
       "                         'l1_ratio': [0.1, 0.3, 0.5, 0.7, 0.9]},\n",
       "             pre_dispatch='2*n_jobs', refit=True, return_train_score=False,\n",
       "             scoring=None, verbose=0)"
      ]
     },
     "execution_count": 50,
     "metadata": {},
     "output_type": "execute_result"
    }
   ],
   "source": [
    "param_grid = {'alpha': [0.2,0.6,1.0], \n",
    "              'l1_ratio': [0.1,0.3,0.5,0.7,0.9]}\n",
    "\n",
    "elastic_model = ElasticNet(max_iter=10000)\n",
    "elastic_grid = GridSearchCV(elastic_model, param_grid, cv=10)\n",
    "elastic_grid.fit(X_train, y_train)"
   ]
  },
  {
   "cell_type": "code",
   "execution_count": 51,
   "metadata": {},
   "outputs": [
    {
     "name": "stdout",
     "output_type": "stream",
     "text": [
      "{'alpha': 0.2, 'l1_ratio': 0.9}\n",
      "0.42549655650104035\n"
     ]
    }
   ],
   "source": [
    "print(elastic_grid.best_params_)\n",
    "print(elastic_grid.best_score_)"
   ]
  },
  {
   "cell_type": "code",
   "execution_count": 52,
   "metadata": {},
   "outputs": [
    {
     "name": "stdout",
     "output_type": "stream",
     "text": [
      "GridSearchCV of elastic net regression: \n",
      "\n",
      " MSE =  18534.679803558705 \n",
      " R-square =  0.42952123148219656\n"
     ]
    }
   ],
   "source": [
    "elastic_tuned = elastic_grid.best_estimator_\n",
    "elastic_tuned_pred = elastic_tuned.predict(X_test)\n",
    "\n",
    "tuned_elastic_mse = mean_squared_error(y_test, elastic_tuned_pred)\n",
    "tuned_elastic_r2 = elastic_tuned.score(X_test, y_test)\n",
    "\n",
    "print('GridSearchCV of elastic net regression: \\n\\n',\n",
    "     'MSE = ', tuned_elastic_mse, '\\n',\n",
    "     'R-square = ',tuned_elastic_r2)"
   ]
  },
  {
   "cell_type": "markdown",
   "metadata": {},
   "source": [
    "### 4) K-nearest Neighbors regression"
   ]
  },
  {
   "cell_type": "code",
   "execution_count": 53,
   "metadata": {},
   "outputs": [
    {
     "data": {
      "text/plain": [
       "GridSearchCV(cv=10, error_score=nan,\n",
       "             estimator=KNeighborsRegressor(algorithm='auto', leaf_size=30,\n",
       "                                           metric='minkowski',\n",
       "                                           metric_params=None, n_jobs=None,\n",
       "                                           n_neighbors=5, p=2,\n",
       "                                           weights='uniform'),\n",
       "             iid='deprecated', n_jobs=None,\n",
       "             param_grid={'leaf_size': [50, 100, 200],\n",
       "                         'n_neighbors': [500, 1000, 2000], 'p': [1, 2],\n",
       "                         'weights': ['uniform', 'distance']},\n",
       "             pre_dispatch='2*n_jobs', refit=True, return_train_score=False,\n",
       "             scoring=None, verbose=0)"
      ]
     },
     "execution_count": 53,
     "metadata": {},
     "output_type": "execute_result"
    }
   ],
   "source": [
    "param_grid = {'n_neighbors':[500,1000,2000], \n",
    "              'weights': ['uniform', 'distance'],\n",
    "              'leaf_size':[50,100,200],\n",
    "              'p':[1,2]}\n",
    "\n",
    "knn_model = neighbors.KNeighborsRegressor()\n",
    "knn_grid = GridSearchCV(knn_model, param_grid, cv=10)\n",
    "knn_grid.fit(X_train, y_train)"
   ]
  },
  {
   "cell_type": "code",
   "execution_count": 54,
   "metadata": {},
   "outputs": [
    {
     "name": "stdout",
     "output_type": "stream",
     "text": [
      "{'leaf_size': 200, 'n_neighbors': 500, 'p': 1, 'weights': 'distance'}\n",
      "0.31804467402278475\n"
     ]
    }
   ],
   "source": [
    "print(knn_grid.best_params_)\n",
    "print(knn_grid.best_score_)"
   ]
  },
  {
   "cell_type": "code",
   "execution_count": 55,
   "metadata": {},
   "outputs": [
    {
     "name": "stdout",
     "output_type": "stream",
     "text": [
      "GridSearchCV of K-nearest neighbors regression: \n",
      "\n",
      " MSE =  21715.545628867305 \n",
      " R-square =  0.331617386469778\n"
     ]
    }
   ],
   "source": [
    "knn_tuned = knn_grid.best_estimator_\n",
    "knn_tuned_pred = knn_tuned.predict(X_test)\n",
    "\n",
    "tuned_knn_mse = mean_squared_error(y_test, knn_tuned_pred)\n",
    "tuned_knn_r2 = knn_tuned.score(X_test, y_test)\n",
    "\n",
    "print('GridSearchCV of K-nearest neighbors regression: \\n\\n',\n",
    "     'MSE = ', tuned_knn_mse, '\\n',\n",
    "     'R-square = ',tuned_knn_r2)"
   ]
  },
  {
   "cell_type": "markdown",
   "metadata": {},
   "source": [
    "### 5) Decision tree regression"
   ]
  },
  {
   "cell_type": "code",
   "execution_count": 56,
   "metadata": {},
   "outputs": [
    {
     "name": "stdout",
     "output_type": "stream",
     "text": [
      "CPU times: user 6.5 s, sys: 21.2 ms, total: 6.52 s\n",
      "Wall time: 6.56 s\n"
     ]
    },
    {
     "data": {
      "text/plain": [
       "GridSearchCV(cv=10, error_score=nan,\n",
       "             estimator=DecisionTreeRegressor(ccp_alpha=0.0, criterion='mse',\n",
       "                                             max_depth=None, max_features=None,\n",
       "                                             max_leaf_nodes=None,\n",
       "                                             min_impurity_decrease=0.0,\n",
       "                                             min_impurity_split=None,\n",
       "                                             min_samples_leaf=1,\n",
       "                                             min_samples_split=2,\n",
       "                                             min_weight_fraction_leaf=0.0,\n",
       "                                             presort='deprecated',\n",
       "                                             random_state=666,\n",
       "                                             splitter='best'),\n",
       "             iid='deprecated', n_jobs=None,\n",
       "             param_grid={'ccp_alpha': [0, 0.0001], 'max_depth': [10, 15, 20],\n",
       "                         'min_samples_leaf': [10, 20, 30, 40, 50]},\n",
       "             pre_dispatch='2*n_jobs', refit=True, return_train_score=False,\n",
       "             scoring=None, verbose=0)"
      ]
     },
     "execution_count": 56,
     "metadata": {},
     "output_type": "execute_result"
    }
   ],
   "source": [
    "%%time\n",
    "param_grid = {'max_depth':[10,15,20],\n",
    "              'min_samples_leaf':[10,20,30,40,50],\n",
    "              'ccp_alpha':[0,0.0001]}\n",
    "\n",
    "dt_model = DecisionTreeRegressor(random_state=seed)\n",
    "dt_grid = GridSearchCV(dt_model, param_grid, cv=10)\n",
    "dt_grid.fit(X_train, y_train)"
   ]
  },
  {
   "cell_type": "code",
   "execution_count": 57,
   "metadata": {},
   "outputs": [
    {
     "name": "stdout",
     "output_type": "stream",
     "text": [
      "{'ccp_alpha': 0, 'max_depth': 15, 'min_samples_leaf': 30}\n",
      "0.5192460653362809\n"
     ]
    }
   ],
   "source": [
    "print(dt_grid.best_params_)\n",
    "print(dt_grid.best_score_)"
   ]
  },
  {
   "cell_type": "code",
   "execution_count": 58,
   "metadata": {},
   "outputs": [
    {
     "name": "stdout",
     "output_type": "stream",
     "text": [
      "GridSearchCV of decision tree regression: \n",
      "\n",
      " MSE =  15504.183947904983 \n",
      " R-square =  0.5227968403437914\n"
     ]
    }
   ],
   "source": [
    "dt_tuned = dt_grid.best_estimator_\n",
    "dt_tuned_pred = dt_tuned.predict(X_test)\n",
    "\n",
    "tuned_dt_mse = mean_squared_error(y_test, dt_tuned_pred)\n",
    "tuned_dt_r2 = dt_tuned.score(X_test, y_test)\n",
    "\n",
    "print('GridSearchCV of decision tree regression: \\n\\n',\n",
    "     'MSE = ', tuned_dt_mse, '\\n',\n",
    "     'R-square = ',tuned_dt_r2)"
   ]
  },
  {
   "cell_type": "markdown",
   "metadata": {},
   "source": [
    "### 6) Random Forest Regression"
   ]
  },
  {
   "cell_type": "code",
   "execution_count": 59,
   "metadata": {},
   "outputs": [
    {
     "name": "stdout",
     "output_type": "stream",
     "text": [
      "CPU times: user 4min 10s, sys: 964 ms, total: 4min 11s\n",
      "Wall time: 4min 12s\n"
     ]
    },
    {
     "data": {
      "text/plain": [
       "GridSearchCV(cv=10, error_score=nan,\n",
       "             estimator=RandomForestRegressor(bootstrap=True, ccp_alpha=0.0,\n",
       "                                             criterion='mse', max_depth=None,\n",
       "                                             max_features='auto',\n",
       "                                             max_leaf_nodes=None,\n",
       "                                             max_samples=None,\n",
       "                                             min_impurity_decrease=0.0,\n",
       "                                             min_impurity_split=None,\n",
       "                                             min_samples_leaf=1,\n",
       "                                             min_samples_split=2,\n",
       "                                             min_weight_fraction_leaf=0.0,\n",
       "                                             n_estimators=100, n_jobs=None,\n",
       "                                             oob_score=False, random_state=666,\n",
       "                                             verbose=0, warm_start=False),\n",
       "             iid='deprecated', n_jobs=None,\n",
       "             param_grid={'ccp_alpha': [0, 0.0001], 'max_depth': [5, 10, 20],\n",
       "                         'min_samples_leaf': [5, 10, 20]},\n",
       "             pre_dispatch='2*n_jobs', refit=True, return_train_score=False,\n",
       "             scoring=None, verbose=0)"
      ]
     },
     "execution_count": 59,
     "metadata": {},
     "output_type": "execute_result"
    }
   ],
   "source": [
    "%%time\n",
    "param_grid = {'max_depth':[5,10,20],\n",
    "              'min_samples_leaf':[5,10,20],\n",
    "              'ccp_alpha':[0,0.0001]}\n",
    "\n",
    "rf_model = RandomForestRegressor(random_state=seed)\n",
    "rf_grid = GridSearchCV(rf_model, param_grid, cv=10)\n",
    "rf_grid.fit(X_train, y_train)"
   ]
  },
  {
   "cell_type": "code",
   "execution_count": 60,
   "metadata": {},
   "outputs": [
    {
     "name": "stdout",
     "output_type": "stream",
     "text": [
      "{'ccp_alpha': 0, 'max_depth': 10, 'min_samples_leaf': 5}\n",
      "0.5581021225959557\n"
     ]
    }
   ],
   "source": [
    "print(rf_grid.best_params_)\n",
    "print(rf_grid.best_score_)"
   ]
  },
  {
   "cell_type": "code",
   "execution_count": 61,
   "metadata": {},
   "outputs": [
    {
     "name": "stdout",
     "output_type": "stream",
     "text": [
      "GridSearchCV of random forest regression: \n",
      "\n",
      " MSE =  14105.09651482229 \n",
      " R-square =  0.5658593417915101\n"
     ]
    }
   ],
   "source": [
    "rf_tuned = rf_grid.best_estimator_\n",
    "rf_tuned_pred = rf_tuned.predict(X_test)\n",
    "\n",
    "tuned_rf_mse = mean_squared_error(y_test, rf_tuned_pred)\n",
    "tuned_rf_r2 = rf_tuned.score(X_test, y_test)\n",
    "\n",
    "print('GridSearchCV of random forest regression: \\n\\n',\n",
    "     'MSE = ', tuned_rf_mse, '\\n',\n",
    "     'R-square = ',tuned_rf_r2)"
   ]
  },
  {
   "cell_type": "markdown",
   "metadata": {},
   "source": [
    "### Random Forest Regression is the winner"
   ]
  },
  {
   "cell_type": "markdown",
   "metadata": {},
   "source": [
    "**Print and plot the feature importance**"
   ]
  },
  {
   "cell_type": "code",
   "execution_count": 62,
   "metadata": {},
   "outputs": [
    {
     "data": {
      "text/html": [
       "<div>\n",
       "<style scoped>\n",
       "    .dataframe tbody tr th:only-of-type {\n",
       "        vertical-align: middle;\n",
       "    }\n",
       "\n",
       "    .dataframe tbody tr th {\n",
       "        vertical-align: top;\n",
       "    }\n",
       "\n",
       "    .dataframe thead th {\n",
       "        text-align: right;\n",
       "    }\n",
       "</style>\n",
       "<table border=\"1\" class=\"dataframe\">\n",
       "  <thead>\n",
       "    <tr style=\"text-align: right;\">\n",
       "      <th></th>\n",
       "      <th>Feature importance</th>\n",
       "    </tr>\n",
       "  </thead>\n",
       "  <tbody>\n",
       "    <tr>\n",
       "      <th>atemp</th>\n",
       "      <td>0.239198</td>\n",
       "    </tr>\n",
       "    <tr>\n",
       "      <th>evening</th>\n",
       "      <td>0.141455</td>\n",
       "    </tr>\n",
       "    <tr>\n",
       "      <th>humidity</th>\n",
       "      <td>0.133296</td>\n",
       "    </tr>\n",
       "    <tr>\n",
       "      <th>afternoon</th>\n",
       "      <td>0.119489</td>\n",
       "    </tr>\n",
       "    <tr>\n",
       "      <th>morning</th>\n",
       "      <td>0.101945</td>\n",
       "    </tr>\n",
       "    <tr>\n",
       "      <th>temp</th>\n",
       "      <td>0.091686</td>\n",
       "    </tr>\n",
       "    <tr>\n",
       "      <th>workingday</th>\n",
       "      <td>0.062956</td>\n",
       "    </tr>\n",
       "    <tr>\n",
       "      <th>windspeed</th>\n",
       "      <td>0.041083</td>\n",
       "    </tr>\n",
       "    <tr>\n",
       "      <th>winter</th>\n",
       "      <td>0.029895</td>\n",
       "    </tr>\n",
       "    <tr>\n",
       "      <th>weather_3</th>\n",
       "      <td>0.016048</td>\n",
       "    </tr>\n",
       "    <tr>\n",
       "      <th>weather_2</th>\n",
       "      <td>0.010695</td>\n",
       "    </tr>\n",
       "    <tr>\n",
       "      <th>summer</th>\n",
       "      <td>0.006203</td>\n",
       "    </tr>\n",
       "    <tr>\n",
       "      <th>fall</th>\n",
       "      <td>0.004311</td>\n",
       "    </tr>\n",
       "    <tr>\n",
       "      <th>holiday</th>\n",
       "      <td>0.001740</td>\n",
       "    </tr>\n",
       "    <tr>\n",
       "      <th>weather_4</th>\n",
       "      <td>0.000000</td>\n",
       "    </tr>\n",
       "  </tbody>\n",
       "</table>\n",
       "</div>"
      ],
      "text/plain": [
       "            Feature importance\n",
       "atemp                 0.239198\n",
       "evening               0.141455\n",
       "humidity              0.133296\n",
       "afternoon             0.119489\n",
       "morning               0.101945\n",
       "temp                  0.091686\n",
       "workingday            0.062956\n",
       "windspeed             0.041083\n",
       "winter                0.029895\n",
       "weather_3             0.016048\n",
       "weather_2             0.010695\n",
       "summer                0.006203\n",
       "fall                  0.004311\n",
       "holiday               0.001740\n",
       "weather_4             0.000000"
      ]
     },
     "execution_count": 62,
     "metadata": {},
     "output_type": "execute_result"
    }
   ],
   "source": [
    "rowname = X.columns\n",
    "feature_importance = rf_tuned.feature_importances_\n",
    "\n",
    "tab = pd.DataFrame(feature_importance, index=rowname)\n",
    "tab.rename(columns={0:\"Feature importance\"}, inplace=True)\n",
    "tab.sort_values(by=\"Feature importance\", ascending=False, inplace=True)\n",
    "tab"
   ]
  },
  {
   "cell_type": "code",
   "execution_count": 63,
   "metadata": {},
   "outputs": [
    {
     "data": {
      "image/png": "[encoded data removed]",
      "text/plain": [
       "<Figure size 1296x360 with 1 Axes>"
      ]
     },
     "metadata": {
      "needs_background": "light"
     },
     "output_type": "display_data"
    }
   ],
   "source": [
    "plt.figure(figsize=(18,5))\n",
    "plt.bar(tab.index, tab['Feature importance']) \n",
    "plt.title(\"Feature Importances\") \n",
    "plt.xlabel(\"Features\")\n",
    "plt.ylabel(\"Weights\")\n",
    "plt.show()"
   ]
  },
  {
   "cell_type": "markdown",
   "metadata": {},
   "source": [
    "## Table for ALL results "
   ]
  },
  {
   "cell_type": "code",
   "execution_count": 70,
   "metadata": {},
   "outputs": [
    {
     "data": {
      "text/html": [
       "<div>\n",
       "<style scoped>\n",
       "    .dataframe tbody tr th:only-of-type {\n",
       "        vertical-align: middle;\n",
       "    }\n",
       "\n",
       "    .dataframe tbody tr th {\n",
       "        vertical-align: top;\n",
       "    }\n",
       "\n",
       "    .dataframe thead th {\n",
       "        text-align: right;\n",
       "    }\n",
       "</style>\n",
       "<table border=\"1\" class=\"dataframe\">\n",
       "  <thead>\n",
       "    <tr style=\"text-align: right;\">\n",
       "      <th></th>\n",
       "      <th>MSE</th>\n",
       "      <th>R-square</th>\n",
       "      <th>Hyperparameter MSE</th>\n",
       "      <th>Hyperparameter R-square</th>\n",
       "    </tr>\n",
       "  </thead>\n",
       "  <tbody>\n",
       "    <tr>\n",
       "      <th>OLS</th>\n",
       "      <td>17940.960278</td>\n",
       "      <td>0.447795</td>\n",
       "      <td>NA</td>\n",
       "      <td>NA</td>\n",
       "    </tr>\n",
       "    <tr>\n",
       "      <th>Ridge</th>\n",
       "      <td>17941.752717</td>\n",
       "      <td>0.447771</td>\n",
       "      <td>17941.8</td>\n",
       "      <td>0.447771</td>\n",
       "    </tr>\n",
       "    <tr>\n",
       "      <th>Lasson</th>\n",
       "      <td>18069.290532</td>\n",
       "      <td>0.443845</td>\n",
       "      <td>17952.9</td>\n",
       "      <td>0.447426</td>\n",
       "    </tr>\n",
       "    <tr>\n",
       "      <th>ElasticNet</th>\n",
       "      <td>23418.536932</td>\n",
       "      <td>0.279201</td>\n",
       "      <td>18534.7</td>\n",
       "      <td>0.429521</td>\n",
       "    </tr>\n",
       "    <tr>\n",
       "      <th>KNeighbor</th>\n",
       "      <td>25215.248317</td>\n",
       "      <td>0.223900</td>\n",
       "      <td>21715.5</td>\n",
       "      <td>0.331617</td>\n",
       "    </tr>\n",
       "    <tr>\n",
       "      <th>DecisionTree</th>\n",
       "      <td>26592.348768</td>\n",
       "      <td>0.181514</td>\n",
       "      <td>15504.2</td>\n",
       "      <td>0.522797</td>\n",
       "    </tr>\n",
       "    <tr>\n",
       "      <th>RandomForest</th>\n",
       "      <td>15533.482883</td>\n",
       "      <td>0.521895</td>\n",
       "      <td>14105.1</td>\n",
       "      <td>0.565859</td>\n",
       "    </tr>\n",
       "  </tbody>\n",
       "</table>\n",
       "</div>"
      ],
      "text/plain": [
       "                       MSE  R-square Hyperparameter MSE  \\\n",
       "OLS           17940.960278  0.447795                 NA   \n",
       "Ridge         17941.752717  0.447771            17941.8   \n",
       "Lasson        18069.290532  0.443845            17952.9   \n",
       "ElasticNet    23418.536932  0.279201            18534.7   \n",
       "KNeighbor     25215.248317  0.223900            21715.5   \n",
       "DecisionTree  26592.348768  0.181514            15504.2   \n",
       "RandomForest  15533.482883  0.521895            14105.1   \n",
       "\n",
       "             Hyperparameter R-square  \n",
       "OLS                               NA  \n",
       "Ridge                       0.447771  \n",
       "Lasson                      0.447426  \n",
       "ElasticNet                  0.429521  \n",
       "KNeighbor                   0.331617  \n",
       "DecisionTree                0.522797  \n",
       "RandomForest                0.565859  "
      ]
     },
     "execution_count": 70,
     "metadata": {},
     "output_type": "execute_result"
    }
   ],
   "source": [
    "simple_mse = [simple_lr_mse, simple_ridge_mse, simple_lasso_mse, simple_elastic_mse, \n",
    "             simple_knn_mse, simple_dt_mse, simple_rf_mse]\n",
    "simple_r2 = [simple_lr_r2, simple_ridge_r2, simple_lasso_r2, simple_elastic_r2, \n",
    "             simple_knn_r2, simple_dt_r2, simple_rf_r2]\n",
    "\n",
    "tuned_mse = [\"NA\", tuned_ridge_mse, tuned_lasso_mse, tuned_elastic_mse, \n",
    "             tuned_knn_mse, tuned_dt_mse, tuned_rf_mse]\n",
    "tuned_r2 = [\"NA\", tuned_ridge_r2, tuned_lasso_r2, tuned_elastic_r2, \n",
    "             tuned_knn_r2, tuned_dt_r2, tuned_rf_r2]\n",
    "\n",
    "dict = {'MSE':simple_mse, 'R-square':simple_r2, \n",
    "        'Hyperparameter MSE':tuned_mse, 'Hyperparameter R-square':tuned_r2}\n",
    "\n",
    "rowname = [\"OLS\", \"Ridge\", \"Lasson\", \"ElasticNet\", \"KNeighbor\", \"DecisionTree\", \"RandomForest\"]\n",
    "\n",
    "result = pd.DataFrame(dict, index=rowname)\n",
    "result"
   ]
  },
  {
   "cell_type": "markdown",
   "metadata": {},
   "source": [
    "## Visualize the results"
   ]
  },
  {
   "cell_type": "code",
   "execution_count": 67,
   "metadata": {},
   "outputs": [
    {
     "data": {
      "image/png": "[encoded data removed]",
      "text/plain": [
       "<Figure size 720x576 with 1 Axes>"
      ]
     },
     "metadata": {
      "needs_background": "light"
     },
     "output_type": "display_data"
    }
   ],
   "source": [
    "plt.figure(figsize=(10,8))\n",
    "plt.scatter(rf_tuned_pred,y_test)\n",
    "plt.xlabel('Predicted # Rental Bikes')\n",
    "plt.ylabel('Actual # Rental Bikes')\n",
    "plt.title('Accuracy of Random Forest Regressor')\n",
    "plt.show()"
   ]
  }
 ],
 "metadata": {
  "kernelspec": {
   "display_name": "Python 3",
   "language": "python",
   "name": "python3"
  },
  "language_info": {
   "codemirror_mode": {
    "name": "ipython",
    "version": 3
   },
   "file_extension": ".py",
   "mimetype": "text/x-python",
   "name": "python",
   "nbconvert_exporter": "python",
   "pygments_lexer": "ipython3",
   "version": "3.7.6"
  }
 },
 "nbformat": 4,
 "nbformat_minor": 4
}
